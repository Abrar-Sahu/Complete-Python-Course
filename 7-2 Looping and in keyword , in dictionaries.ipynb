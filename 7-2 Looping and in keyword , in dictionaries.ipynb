{
 "cells": [
  {
   "cell_type": "code",
   "execution_count": 1,
   "metadata": {},
   "outputs": [
    {
     "name": "stdout",
     "output_type": "stream",
     "text": [
      "{'name': 'Abrar', 'age': 22, 'gender': 'Male', 'fav_fruit': ['Mango', 'Banana', 'Orange']}\n"
     ]
    }
   ],
   "source": [
    "user_info = {\n",
    "    \"name\":\"Abrar\",\n",
    "    \"age\":22,\n",
    "    \"gender\":\"Male\",\n",
    "    \"fav_fruit\":[\"Mango\",\"Banana\",\"Orange\"]\n",
    "}\n",
    "print(user_info)"
   ]
  },
  {
   "cell_type": "code",
   "execution_count": 2,
   "metadata": {},
   "outputs": [
    {
     "name": "stdout",
     "output_type": "stream",
     "text": [
      "Present\n"
     ]
    }
   ],
   "source": [
    "# check if key exist in dictionary\n",
    "if 'name' in user_info:\n",
    "    print(\"Present\")\n",
    "else:\n",
    "    print(\"Not Present\")"
   ]
  },
  {
   "cell_type": "code",
   "execution_count": 6,
   "metadata": {},
   "outputs": [
    {
     "name": "stdout",
     "output_type": "stream",
     "text": [
      "Present\n"
     ]
    }
   ],
   "source": [
    "# check if value exist in dictionary\n",
    "if 22 in user_info.values():\n",
    "    print(\"Present\")\n",
    "else:\n",
    "    print(\"Not Present\")\n"
   ]
  },
  {
   "cell_type": "code",
   "execution_count": 7,
   "metadata": {},
   "outputs": [
    {
     "name": "stdout",
     "output_type": "stream",
     "text": [
      "Present\n"
     ]
    }
   ],
   "source": [
    "if [\"Mango\",\"Banana\",\"Orange\"] in user_info.values():\n",
    "    print(\"Present\")\n",
    "else:\n",
    "    print(\"Not Present\")\n"
   ]
  },
  {
   "cell_type": "code",
   "execution_count": 8,
   "metadata": {},
   "outputs": [
    {
     "name": "stdout",
     "output_type": "stream",
     "text": [
      "name\n",
      "age\n",
      "gender\n",
      "fav_fruit\n"
     ]
    }
   ],
   "source": [
    "# Loops in Dictionaries\n",
    "for i in user_info:\n",
    "    print(i)"
   ]
  },
  {
   "cell_type": "code",
   "execution_count": 9,
   "metadata": {},
   "outputs": [
    {
     "name": "stdout",
     "output_type": "stream",
     "text": [
      "Abrar\n",
      "22\n",
      "Male\n",
      "['Mango', 'Banana', 'Orange']\n"
     ]
    }
   ],
   "source": [
    "for i in user_info.values():\n",
    "    print(i)"
   ]
  },
  {
   "cell_type": "code",
   "execution_count": 13,
   "metadata": {},
   "outputs": [
    {
     "name": "stdout",
     "output_type": "stream",
     "text": [
      "Abrar\n",
      "22\n",
      "Male\n",
      "['Mango', 'Banana', 'Orange']\n"
     ]
    }
   ],
   "source": [
    "for i in user_info:\n",
    "    print(user_info[i])"
   ]
  },
  {
   "cell_type": "code",
   "execution_count": 11,
   "metadata": {},
   "outputs": [
    {
     "name": "stdout",
     "output_type": "stream",
     "text": [
      "dict_values(['Abrar', 22, 'Male', ['Mango', 'Banana', 'Orange']])\n"
     ]
    },
    {
     "data": {
      "text/plain": [
       "dict_values"
      ]
     },
     "execution_count": 11,
     "metadata": {},
     "output_type": "execute_result"
    }
   ],
   "source": [
    "# values method\n",
    "user_info_values = user_info.values()\n",
    "print(user_info_values)\n",
    "type(user_info_values)"
   ]
  },
  {
   "cell_type": "code",
   "execution_count": 12,
   "metadata": {},
   "outputs": [
    {
     "name": "stdout",
     "output_type": "stream",
     "text": [
      "dict_keys(['name', 'age', 'gender', 'fav_fruit'])\n"
     ]
    },
    {
     "data": {
      "text/plain": [
       "dict_keys"
      ]
     },
     "execution_count": 12,
     "metadata": {},
     "output_type": "execute_result"
    }
   ],
   "source": [
    "# keys method\n",
    "user_info_keys = user_info.keys()\n",
    "print(user_info_keys)\n",
    "type(user_info_keys)"
   ]
  },
  {
   "cell_type": "code",
   "execution_count": 15,
   "metadata": {},
   "outputs": [
    {
     "name": "stdout",
     "output_type": "stream",
     "text": [
      "dict_items([('name', 'Abrar'), ('age', 22), ('gender', 'Male'), ('fav_fruit', ['Mango', 'Banana', 'Orange'])])\n"
     ]
    },
    {
     "data": {
      "text/plain": [
       "dict_items"
      ]
     },
     "execution_count": 15,
     "metadata": {},
     "output_type": "execute_result"
    }
   ],
   "source": [
    "# items method\n",
    "user_items = user_info.items()\n",
    "print(user_items)\n",
    "type(user_items)"
   ]
  },
  {
   "cell_type": "code",
   "execution_count": 16,
   "metadata": {},
   "outputs": [
    {
     "name": "stdout",
     "output_type": "stream",
     "text": [
      "Key is name and value is Abrar\n",
      "Key is age and value is 22\n",
      "Key is gender and value is Male\n",
      "Key is fav_fruit and value is ['Mango', 'Banana', 'Orange']\n"
     ]
    }
   ],
   "source": [
    "for i,j in user_info.items():\n",
    "    print(f\"Key is {i} and value is {j}\")"
   ]
  },
  {
   "cell_type": "code",
   "execution_count": 18,
   "metadata": {},
   "outputs": [
    {
     "name": "stdout",
     "output_type": "stream",
     "text": [
      "('name', 'Abrar')\n",
      "('age', 22)\n",
      "('gender', 'Male')\n",
      "('fav_fruit', ['Mango', 'Banana', 'Orange'])\n"
     ]
    }
   ],
   "source": [
    "for i in user_info.items():          # dictionary unpacking\n",
    "    print(i)"
   ]
  },
  {
   "cell_type": "code",
   "execution_count": null,
   "metadata": {},
   "outputs": [],
   "source": []
  }
 ],
 "metadata": {
  "kernelspec": {
   "display_name": "Python 3",
   "language": "python",
   "name": "python3"
  },
  "language_info": {
   "codemirror_mode": {
    "name": "ipython",
    "version": 3
   },
   "file_extension": ".py",
   "mimetype": "text/x-python",
   "name": "python",
   "nbconvert_exporter": "python",
   "pygments_lexer": "ipython3",
   "version": "3.7.6"
  }
 },
 "nbformat": 4,
 "nbformat_minor": 4
}
