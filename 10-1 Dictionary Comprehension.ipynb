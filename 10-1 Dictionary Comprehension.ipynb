{
 "cells": [
  {
   "cell_type": "code",
   "execution_count": 3,
   "metadata": {},
   "outputs": [
    {
     "name": "stdout",
     "output_type": "stream",
     "text": [
      "{1: 1, 2: 4, 3: 9, 4: 16, 5: 25, 6: 36, 7: 49, 8: 64, 9: 81, 10: 100}\n"
     ]
    }
   ],
   "source": [
    "square = {num:num**2 for num in range(1,11)}\n",
    "print(square)"
   ]
  },
  {
   "cell_type": "code",
   "execution_count": 5,
   "metadata": {},
   "outputs": [
    {
     "name": "stdout",
     "output_type": "stream",
     "text": [
      "{'square of 1 is ': 1, 'square of 2 is ': 4, 'square of 3 is ': 9, 'square of 4 is ': 16, 'square of 5 is ': 25, 'square of 6 is ': 36, 'square of 7 is ': 49, 'square of 8 is ': 64, 'square of 9 is ': 81, 'square of 10 is ': 100}\n"
     ]
    }
   ],
   "source": [
    "square = {f\"square of {num} is \":num**2 for num in range(1,11)}\n",
    "print(square)"
   ]
  },
  {
   "cell_type": "code",
   "execution_count": 8,
   "metadata": {},
   "outputs": [
    {
     "name": "stdout",
     "output_type": "stream",
     "text": [
      "square of 1 is :1\n",
      "square of 2 is :4\n",
      "square of 3 is :9\n",
      "square of 4 is :16\n",
      "square of 5 is :25\n",
      "square of 6 is :36\n",
      "square of 7 is :49\n",
      "square of 8 is :64\n",
      "square of 9 is :81\n",
      "square of 10 is :100\n"
     ]
    }
   ],
   "source": [
    "for k,v in square.items():\n",
    "        print(f\"{k}:{v}\")"
   ]
  },
  {
   "cell_type": "code",
   "execution_count": 9,
   "metadata": {},
   "outputs": [
    {
     "name": "stdout",
     "output_type": "stream",
     "text": [
      "{'A': 1, 'b': 1, 'r': 2, 'a': 2, 'S': 1, 'h': 1, 'u': 1}\n"
     ]
    }
   ],
   "source": [
    "string = \"AbrarSahu\"\n",
    "word_count = {char:string.count(char) for char in string}\n",
    "print(word_count)"
   ]
  },
  {
   "cell_type": "code",
   "execution_count": null,
   "metadata": {},
   "outputs": [],
   "source": []
  }
 ],
 "metadata": {
  "kernelspec": {
   "display_name": "Python 3",
   "language": "python",
   "name": "python3"
  },
  "language_info": {
   "codemirror_mode": {
    "name": "ipython",
    "version": 3
   },
   "file_extension": ".py",
   "mimetype": "text/x-python",
   "name": "python",
   "nbconvert_exporter": "python",
   "pygments_lexer": "ipython3",
   "version": "3.7.6"
  }
 },
 "nbformat": 4,
 "nbformat_minor": 4
}
