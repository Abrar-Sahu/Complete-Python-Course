{
 "cells": [
  {
   "cell_type": "code",
   "execution_count": 5,
   "metadata": {},
   "outputs": [
    {
     "name": "stdout",
     "output_type": "stream",
     "text": [
      "Enter your age: aas\n",
      "Invalid Syntax\n",
      "Finally Block is run always\n",
      "Enter your age: wqqew\n",
      "Invalid Syntax\n",
      "Finally Block is run always\n",
      "Enter your age: cds\n",
      "Invalid Syntax\n",
      "Finally Block is run always\n",
      "Enter your age: gfd\n",
      "Invalid Syntax\n",
      "Finally Block is run always\n",
      "Enter your age: 23\n",
      "user input = 23\n",
      "Finally Block is run always\n"
     ]
    }
   ],
   "source": [
    "while True:\n",
    "    try:\n",
    "        age = int(input(\"Enter your age: \"))\n",
    "    except ValueError:\n",
    "        print('Invalid Syntax')\n",
    "    except:\n",
    "        print(\"Unexpected Error\")\n",
    "    else:\n",
    "        print(f'user input = {age}')\n",
    "        break\n",
    "    finally:\n",
    "        print(\"Finally Block is run always\")"
   ]
  },
  {
   "cell_type": "code",
   "execution_count": null,
   "metadata": {},
   "outputs": [],
   "source": []
  }
 ],
 "metadata": {
  "kernelspec": {
   "display_name": "Python 3",
   "language": "python",
   "name": "python3"
  },
  "language_info": {
   "codemirror_mode": {
    "name": "ipython",
    "version": 3
   },
   "file_extension": ".py",
   "mimetype": "text/x-python",
   "name": "python",
   "nbconvert_exporter": "python",
   "pygments_lexer": "ipython3",
   "version": "3.7.6"
  }
 },
 "nbformat": 4,
 "nbformat_minor": 4
}
