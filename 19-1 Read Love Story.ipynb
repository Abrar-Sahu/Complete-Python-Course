{
 "cells": [
  {
   "cell_type": "code",
   "execution_count": 3,
   "metadata": {},
   "outputs": [
    {
     "name": "stdout",
     "output_type": "stream",
     "text": [
      "utf-8\n",
      "2-What is Linux Operating System?\n",
      "    Just like Windows, iOS, and Mac OS, Linux is an operating system. In fact, one of the most popular platforms on the planet, Android, is powered by the Linux operating system. \n",
      "      Linux is one of popular version of UNIX operating System. It is open source as its source code is freely available. It is free to use. Linux was designed considering UNIX compatibility. Its functionality list is quite similar to that of UNIX.\n",
      "      Linux is an open source Operating System.\n",
      "     Components of Linux System\n",
      "     Linux Operating System has primarily three components\n",
      "•\tKernel:\n",
      "            Kernel is the core part of Linux. It is responsible for all major activities of this operating system. It consists of various modules and it interacts directly with the underlying hardware. Kernel provides the required abstraction to hide low level hardware details to system or application programs.\n",
      "•\tSystem Library:\n",
      "           System libraries are special functions or programs using which application\n",
      "programs or system utilities accesses Kernel's features. These libraries implement most of the functionalities of the operating system and do not requires kernel module's code access rights.\n",
      "•\tSystem Utility:\n",
      "           System Utility programs are responsible to do specialized, individual level tasks.\n"
     ]
    }
   ],
   "source": [
    "with open('Data Files/love-story.txt','r',encoding = 'utf-8') as f:\n",
    "    print(f.encoding)\n",
    "    data = f.read()\n",
    "    print(data)"
   ]
  },
  {
   "cell_type": "code",
   "execution_count": 5,
   "metadata": {},
   "outputs": [
    {
     "name": "stdout",
     "output_type": "stream",
     "text": [
      "2-What is Linux Operating System?\n",
      "    Just like Windows, iOS, and Mac OS, Linux is an operating syst\n",
      "em. In fact, one of the most popular platforms on the planet, Android, is powered by the Linux opera\n",
      "ting system. \n",
      "      Linux is one of popular version of UNIX operating System. It is open source as i\n",
      "ts source code is freely available. It is free to use. Linux was designed considering UNIX compatibi\n",
      "lity. Its functionality list is quite similar to that of UNIX.\n",
      "      Linux is an open source Operati\n",
      "ng System.\n",
      "     Components of Linux System\n",
      "     Linux Operating System has primarily three component\n",
      "s\n",
      "•\tKernel:\n",
      "            Kernel is the core part of Linux. It is responsible for all major activities\n",
      " of this operating system. It consists of various modules and it interacts directly with the underly\n",
      "ing hardware. Kernel provides the required abstraction to hide low level hardware details to system \n",
      "or application programs.\n",
      "•\tSystem Library:\n",
      "           System libraries are special functions or prog\n",
      "rams using which application\n",
      "programs or system utilities accesses Kernel's features. These librarie\n",
      "s implement most of the functionalities of the operating system and do not requires kernel module's \n",
      "code access rights.\n",
      "•\tSystem Utility:\n",
      "           System Utility programs are responsible to do speci\n",
      "alized, individual level tasks.\n"
     ]
    }
   ],
   "source": [
    "with open('Data Files/love-story.txt','r',encoding = 'utf-8') as f:\n",
    "    data = f.read(100)\n",
    "    while len(data) > 0:  \n",
    "        print(data)\n",
    "        data = f.read(100)\n",
    "  "
   ]
  },
  {
   "cell_type": "code",
   "execution_count": null,
   "metadata": {},
   "outputs": [],
   "source": []
  }
 ],
 "metadata": {
  "kernelspec": {
   "display_name": "Python 3",
   "language": "python",
   "name": "python3"
  },
  "language_info": {
   "codemirror_mode": {
    "name": "ipython",
    "version": 3
   },
   "file_extension": ".py",
   "mimetype": "text/x-python",
   "name": "python",
   "nbconvert_exporter": "python",
   "pygments_lexer": "ipython3",
   "version": "3.7.6"
  }
 },
 "nbformat": 4,
 "nbformat_minor": 4
}
