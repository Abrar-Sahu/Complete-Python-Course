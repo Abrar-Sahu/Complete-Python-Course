{
 "cells": [
  {
   "cell_type": "code",
   "execution_count": 7,
   "metadata": {},
   "outputs": [
    {
     "name": "stdout",
     "output_type": "stream",
     "text": [
      "25.12\n"
     ]
    }
   ],
   "source": [
    "class Circle:\n",
    "    # class variable\n",
    "    pi = 3.14\n",
    "    def __init__(self,radius):\n",
    "        self.radius = radius\n",
    "    def calc_circumference(self):\n",
    "        return 2*Circle.pi*self.radius\n",
    "c = Circle(4)\n",
    "print(c.calc_circumference())"
   ]
  },
  {
   "cell_type": "code",
   "execution_count": null,
   "metadata": {},
   "outputs": [],
   "source": []
  },
  {
   "cell_type": "code",
   "execution_count": 9,
   "metadata": {},
   "outputs": [
    {
     "name": "stdout",
     "output_type": "stream",
     "text": [
      "DELL\n",
      "DELL 2015\n",
      "2018\n",
      "27000.0\n"
     ]
    }
   ],
   "source": [
    "class Laptop:\n",
    "    # class variable\n",
    "    discount_percent = 10\n",
    "    # function\n",
    "    def __init__(self,name,model,price):\n",
    "        # instance variables\n",
    "        self.brand_name = name\n",
    "        self.model = model\n",
    "        self.price = price\n",
    "        self.loptop_name = name + ' ' + model\n",
    "    def apply_discount(self):\n",
    "        off_price = (Laptop.discount_percent/100)*self.price\n",
    "        return self.price - off_price\n",
    "# objects\n",
    "p1 = Laptop('DELL','2015',30000)\n",
    "p2 = Laptop('LENOVO','2018',25000)\n",
    "print(p1.brand_name)\n",
    "print(p1.loptop_name)\n",
    "print(p2.model)\n",
    "print(p1.apply_discount())"
   ]
  },
  {
   "cell_type": "code",
   "execution_count": 2,
   "metadata": {},
   "outputs": [
    {
     "name": "stdout",
     "output_type": "stream",
     "text": [
      "DELL\n",
      "DELL 2015\n",
      "2018\n",
      "63000.0\n"
     ]
    }
   ],
   "source": [
    "class Laptop:\n",
    "    discount_percent = 10\n",
    "    # function\n",
    "    def __init__(self,name,model,price):\n",
    "        # instance variables\n",
    "        self.brand_name = name\n",
    "        self.model = model\n",
    "        self.price = price\n",
    "        self.loptop_name = name + ' ' + model\n",
    "    def apply_discount(self):\n",
    "        off_price = (Laptop.discount_percent/100)*self.price\n",
    "        return self.price - off_price\n",
    "Laptop.discount_percent = 0\n",
    "# objects\n",
    "p1 = Laptop('DELL','2015',63000)\n",
    "p2 = Laptop('LENOVO','2018',230000)\n",
    "print(p1.brand_name)\n",
    "print(p1.loptop_name)\n",
    "print(p2.model)\n",
    "print(p1.apply_discount())"
   ]
  },
  {
   "cell_type": "code",
   "execution_count": 7,
   "metadata": {},
   "outputs": [
    {
     "name": "stdout",
     "output_type": "stream",
     "text": [
      "{'brand_name': 'DELL', 'model': '2015', 'price': 63000, 'loptop_name': 'DELL 2015'}\n"
     ]
    }
   ],
   "source": [
    "print(p1.__dict__)"
   ]
  },
  {
   "cell_type": "code",
   "execution_count": 6,
   "metadata": {},
   "outputs": [
    {
     "name": "stdout",
     "output_type": "stream",
     "text": [
      "Variable   Type      Data/Info\n",
      "------------------------------\n",
      "Laptop     type      <class '__main__.Laptop'>\n",
      "p1         Laptop    <__main__.Laptop object at 0x000001CDFE735EC8>\n",
      "p2         Laptop    <__main__.Laptop object at 0x000001CDFE735E48>\n"
     ]
    }
   ],
   "source": [
    "%whos"
   ]
  },
  {
   "cell_type": "code",
   "execution_count": null,
   "metadata": {},
   "outputs": [],
   "source": []
  },
  {
   "cell_type": "code",
   "execution_count": 23,
   "metadata": {},
   "outputs": [
    {
     "name": "stdout",
     "output_type": "stream",
     "text": [
      "3\n",
      "Abrar Anwar Vehari\n"
     ]
    }
   ],
   "source": [
    "class Person:\n",
    "    # class variable\n",
    "    count_instance = 0\n",
    "    # constructure\n",
    "    def __init__(self,name,f_name,city):\n",
    "        Person.count_instance += 1\n",
    "        self.name = name\n",
    "        self.f_name = f_name\n",
    "        self.city = city\n",
    "    def p_info(self):\n",
    "        all=self.name+' '+self.f_name+' '+self.city\n",
    "        return all\n",
    "# instance\n",
    "P1 =Person('Abrar','Anwar','Vehari')\n",
    "P2 =Person('Ali','Aslam','Multan')\n",
    "P3 =Person('waqas','Ashiq','Gago')\n",
    "print(Person.count_instance)\n",
    "print(P1.p_info())"
   ]
  },
  {
   "cell_type": "code",
   "execution_count": null,
   "metadata": {},
   "outputs": [],
   "source": []
  }
 ],
 "metadata": {
  "kernelspec": {
   "display_name": "Python 3",
   "language": "python",
   "name": "python3"
  },
  "language_info": {
   "codemirror_mode": {
    "name": "ipython",
    "version": 3
   },
   "file_extension": ".py",
   "mimetype": "text/x-python",
   "name": "python",
   "nbconvert_exporter": "python",
   "pygments_lexer": "ipython3",
   "version": "3.7.6"
  }
 },
 "nbformat": 4,
 "nbformat_minor": 4
}
