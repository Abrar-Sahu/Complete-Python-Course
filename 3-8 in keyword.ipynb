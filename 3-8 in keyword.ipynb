{
 "cells": [
  {
   "cell_type": "code",
   "execution_count": 1,
   "metadata": {},
   "outputs": [],
   "source": [
    "# we use in keyword to check an alphabet is available in a string or not"
   ]
  },
  {
   "cell_type": "code",
   "execution_count": 2,
   "metadata": {},
   "outputs": [
    {
     "name": "stdout",
     "output_type": "stream",
     "text": [
      "Yes, S is present\n"
     ]
    }
   ],
   "source": [
    "name = \"Abrar Sahu\"\n",
    "if \"S\" in name:\n",
    "    print(\"Yes, S is present\")\n",
    "else:\n",
    "    print(\"Sorry, S is not present\")"
   ]
  },
  {
   "cell_type": "code",
   "execution_count": 4,
   "metadata": {},
   "outputs": [
    {
     "name": "stdout",
     "output_type": "stream",
     "text": [
      "Enter your Name: abrar\n",
      "Enter a character: x\n",
      "Sorry x is not available in abrar\n"
     ]
    }
   ],
   "source": [
    "user = input(\"Enter your Name: \")\n",
    "char = input(\"Enter a character: \")\n",
    "if char in user:\n",
    "    print(\"Yes \"+ char + \" is available in \"+ user)\n",
    "else:\n",
    "    print(\"Sorry \"+ char + \" is not available in \"+ user)"
   ]
  },
  {
   "cell_type": "code",
   "execution_count": null,
   "metadata": {},
   "outputs": [],
   "source": []
  }
 ],
 "metadata": {
  "kernelspec": {
   "display_name": "Python 3",
   "language": "python",
   "name": "python3"
  },
  "language_info": {
   "codemirror_mode": {
    "name": "ipython",
    "version": 3
   },
   "file_extension": ".py",
   "mimetype": "text/x-python",
   "name": "python",
   "nbconvert_exporter": "python",
   "pygments_lexer": "ipython3",
   "version": "3.7.6"
  }
 },
 "nbformat": 4,
 "nbformat_minor": 4
}
