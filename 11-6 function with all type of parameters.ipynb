{
 "cells": [
  {
   "cell_type": "code",
   "execution_count": 1,
   "metadata": {},
   "outputs": [],
   "source": [
    "# function with all parameters is very important"
   ]
  },
  {
   "cell_type": "code",
   "execution_count": 2,
   "metadata": {},
   "outputs": [
    {
     "ename": "SyntaxError",
     "evalue": "unexpected EOF while parsing (<ipython-input-2-8c7099c8cd57>, line 2)",
     "output_type": "error",
     "traceback": [
      "\u001b[1;36m  File \u001b[1;32m\"<ipython-input-2-8c7099c8cd57>\"\u001b[1;36m, line \u001b[1;32m2\u001b[0m\n\u001b[1;33m    def pare(n):\u001b[0m\n\u001b[1;37m                ^\u001b[0m\n\u001b[1;31mSyntaxError\u001b[0m\u001b[1;31m:\u001b[0m unexpected EOF while parsing\n"
     ]
    }
   ],
   "source": [
    "# parameters\n",
    "def pare(n):"
   ]
  },
  {
   "cell_type": "code",
   "execution_count": 5,
   "metadata": {},
   "outputs": [
    {
     "name": "stdout",
     "output_type": "stream",
     "text": [
      "unknown\n",
      "24\n"
     ]
    }
   ],
   "source": [
    "# default parameter\n",
    "def default(name = 'unknown',age=24): # name,age is a default parameter\n",
    "    print(name)\n",
    "    print(age)\n",
    "default()"
   ]
  },
  {
   "cell_type": "code",
   "execution_count": 7,
   "metadata": {},
   "outputs": [
    {
     "name": "stdout",
     "output_type": "stream",
     "text": [
      "Abrar\n",
      "(1, 2, 3)\n",
      "Unknown\n",
      "{'a': 1, 'b': 2, 'c': 3}\n"
     ]
    }
   ],
   "source": [
    "# function with all type of parameters\n",
    "# order: parameter, *args, default parameter, **kwargs (PADK)\n",
    "def normal(name,*args,last_name=\"Unknown\",**kwargs):\n",
    "    print(name)\n",
    "    print(args)\n",
    "    print(last_name)\n",
    "    print(kwargs)\n",
    "normal('Abrar',1,2,3,a=1,b=2,c=3)"
   ]
  },
  {
   "cell_type": "code",
   "execution_count": null,
   "metadata": {},
   "outputs": [],
   "source": []
  }
 ],
 "metadata": {
  "kernelspec": {
   "display_name": "Python 3",
   "language": "python",
   "name": "python3"
  },
  "language_info": {
   "codemirror_mode": {
    "name": "ipython",
    "version": 3
   },
   "file_extension": ".py",
   "mimetype": "text/x-python",
   "name": "python",
   "nbconvert_exporter": "python",
   "pygments_lexer": "ipython3",
   "version": "3.7.6"
  }
 },
 "nbformat": 4,
 "nbformat_minor": 4
}
