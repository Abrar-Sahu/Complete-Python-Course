{
 "cells": [
  {
   "cell_type": "code",
   "execution_count": 12,
   "metadata": {},
   "outputs": [
    {
     "name": "stdout",
     "output_type": "stream",
     "text": [
      "{1: 1, 2: 8, 3: 27, 4: 64, 5: 125}\n"
     ]
    }
   ],
   "source": [
    "def cube_finder(n):\n",
    "    cube = {}\n",
    "    for i in range(1,n+1):\n",
    "        cube[i]=i**3\n",
    "    return cube\n",
    "print(cube_finder(5))"
   ]
  },
  {
   "cell_type": "code",
   "execution_count": null,
   "metadata": {},
   "outputs": [],
   "source": []
  },
  {
   "cell_type": "code",
   "execution_count": 15,
   "metadata": {},
   "outputs": [
    {
     "name": "stdout",
     "output_type": "stream",
     "text": [
      "Enter your name: abrar\n",
      "Enter your age: 22\n",
      "Enter your favorite fruit seperated by comma: mango,banana,orange\n",
      "Enter your favorite color seperated by comma: red,green,yellow\n",
      "name:abrar\n",
      "age:22\n",
      "fav_fruit:['mango', 'banana', 'orange']\n",
      "fav_color:['red', 'green', 'yellow']\n"
     ]
    }
   ],
   "source": [
    "user = {}\n",
    "name = input(\"Enter your name: \")\n",
    "age = input(\"Enter your age: \")\n",
    "fav_fruit = input(\"Enter your favorite fruit seperated by comma: \").split(\",\")\n",
    "fav_color = input(\"Enter your favorite color seperated by comma: \").split(\",\")\n",
    "user[\"name\"]=name\n",
    "user[\"age\"]=age\n",
    "user[\"fav_fruit\"]=fav_fruit\n",
    "user[\"fav_color\"]=fav_color\n",
    "for key,value in user.items():\n",
    "    print(f\"{key}:{value}\")"
   ]
  },
  {
   "cell_type": "code",
   "execution_count": null,
   "metadata": {},
   "outputs": [],
   "source": []
  }
 ],
 "metadata": {
  "kernelspec": {
   "display_name": "Python 3",
   "language": "python",
   "name": "python3"
  },
  "language_info": {
   "codemirror_mode": {
    "name": "ipython",
    "version": 3
   },
   "file_extension": ".py",
   "mimetype": "text/x-python",
   "name": "python",
   "nbconvert_exporter": "python",
   "pygments_lexer": "ipython3",
   "version": "3.7.6"
  }
 },
 "nbformat": 4,
 "nbformat_minor": 4
}
