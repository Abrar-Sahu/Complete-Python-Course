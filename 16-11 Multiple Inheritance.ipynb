{
 "cells": [
  {
   "cell_type": "code",
   "execution_count": 6,
   "metadata": {},
   "outputs": [
    {
     "name": "stdout",
     "output_type": "stream",
     "text": [
      "I'm just a class A method\n",
      "I'm just a class B method\n",
      "hello from class A\n",
      "[<class '__main__.C'>, <class '__main__.A'>, <class '__main__.B'>, <class 'object'>]\n"
     ]
    }
   ],
   "source": [
    "class A:\n",
    "    def class_A_Method(self):\n",
    "        return 'I\\'m just a class A method'\n",
    "    def hello(self):\n",
    "        return \"hello from class A\"\n",
    "class B:\n",
    "    def class_B_Method(self):\n",
    "        return 'I\\'m just a class B method'\n",
    "    def hello(self):\n",
    "        return \"hello from class B\"\n",
    "class C(A,B):\n",
    "    pass\n",
    "instance_c = C()\n",
    "print(instance_c.class_A_Method())\n",
    "print(instance_c.class_B_Method())\n",
    "print(instance_c.hello())\n",
    "print(C.mro())"
   ]
  },
  {
   "cell_type": "code",
   "execution_count": null,
   "metadata": {},
   "outputs": [],
   "source": []
  }
 ],
 "metadata": {
  "kernelspec": {
   "display_name": "Python 3",
   "language": "python",
   "name": "python3"
  },
  "language_info": {
   "codemirror_mode": {
    "name": "ipython",
    "version": 3
   },
   "file_extension": ".py",
   "mimetype": "text/x-python",
   "name": "python",
   "nbconvert_exporter": "python",
   "pygments_lexer": "ipython3",
   "version": "3.7.6"
  }
 },
 "nbformat": 4,
 "nbformat_minor": 4
}
