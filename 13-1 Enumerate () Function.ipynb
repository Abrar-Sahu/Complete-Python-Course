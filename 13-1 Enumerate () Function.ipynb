{
 "cells": [
  {
   "cell_type": "code",
   "execution_count": 1,
   "metadata": {},
   "outputs": [],
   "source": [
    "# we use enumerate function with for loop to track position for our item in iterable"
   ]
  },
  {
   "cell_type": "code",
   "execution_count": 4,
   "metadata": {},
   "outputs": [
    {
     "name": "stdout",
     "output_type": "stream",
     "text": [
      "0-----> ['abc', 'abcdef', 'xyz']\n",
      "1-----> ['abc', 'abcdef', 'xyz']\n",
      "2-----> ['abc', 'abcdef', 'xyz']\n"
     ]
    }
   ],
   "source": [
    "name =['abc','abcdef','xyz']\n",
    "pos = 0\n",
    "for names in name:\n",
    "    print(f'{pos}-----> {name}')\n",
    "    pos += 1"
   ]
  },
  {
   "cell_type": "code",
   "execution_count": 6,
   "metadata": {},
   "outputs": [
    {
     "name": "stdout",
     "output_type": "stream",
     "text": [
      "0------> abc\n",
      "1------> abcdef\n",
      "2------> xyz\n"
     ]
    }
   ],
   "source": [
    "name =['abc','abcdef','xyz']\n",
    "for pos,name in enumerate(name):\n",
    "    print(f\"{pos}------> {name}\")"
   ]
  },
  {
   "cell_type": "code",
   "execution_count": 7,
   "metadata": {},
   "outputs": [
    {
     "name": "stdout",
     "output_type": "stream",
     "text": [
      "2\n"
     ]
    }
   ],
   "source": [
    "names = [\"abc\",'abcdef','abrar']\n",
    "def find_pos(l,target):\n",
    "    for pos, name in enumerate(l):\n",
    "        if name == target:\n",
    "            return pos\n",
    "    return -1\n",
    "print(find_pos(names,'abrar'))"
   ]
  },
  {
   "cell_type": "code",
   "execution_count": null,
   "metadata": {},
   "outputs": [],
   "source": []
  }
 ],
 "metadata": {
  "kernelspec": {
   "display_name": "Python 3",
   "language": "python",
   "name": "python3"
  },
  "language_info": {
   "codemirror_mode": {
    "name": "ipython",
    "version": 3
   },
   "file_extension": ".py",
   "mimetype": "text/x-python",
   "name": "python",
   "nbconvert_exporter": "python",
   "pygments_lexer": "ipython3",
   "version": "3.7.6"
  }
 },
 "nbformat": 4,
 "nbformat_minor": 4
}
