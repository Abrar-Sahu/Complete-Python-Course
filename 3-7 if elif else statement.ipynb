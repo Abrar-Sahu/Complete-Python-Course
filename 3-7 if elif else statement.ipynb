{
 "cells": [
  {
   "cell_type": "code",
   "execution_count": 5,
   "metadata": {},
   "outputs": [
    {
     "name": "stdout",
     "output_type": "stream",
     "text": [
      "Enter your age:8\n",
      "Ticket Price:150\n"
     ]
    }
   ],
   "source": [
    "age = int(input(\"Enter your age:\"))\n",
    "if age <= 0:\n",
    "    print(\"You cannot watch\")\n",
    "elif 0<age<=3:\n",
    "    print(\"Ticket Price:Free\")\n",
    "elif 3<age<=10:\n",
    "    print(\"Ticket Price:150\")\n",
    "elif 10<age<=60:\n",
    "    print(\"Ticket Price:250\")\n",
    "else:\n",
    "    print(\"Ticket Price is 200\")"
   ]
  },
  {
   "cell_type": "code",
   "execution_count": 15,
   "metadata": {},
   "outputs": [
    {
     "name": "stdout",
     "output_type": "stream",
     "text": [
      "Enter your age: 45\n",
      "Ticket Price for 45 Year Younger is: 250\n"
     ]
    }
   ],
   "source": [
    "age = int(input(\"Enter your age: \"))\n",
    "if age <= 0:\n",
    "    print(\"Sorry, You can not watch\")\n",
    "elif 0<age<=3:\n",
    "    print(f\"Ticket Price for {age} Year Baby is: Free\")\n",
    "elif 3<age<=10:\n",
    "    print(f\"Ticket Price for {age} Year Child is: 150\")\n",
    "elif 10<age<=60:\n",
    "    print(f\"Ticket Price for {age} Year Younger is: 250\")\n",
    "else:\n",
    "    print(f\"Ticket Price for {age} Year Older is: 200\")"
   ]
  },
  {
   "cell_type": "code",
   "execution_count": null,
   "metadata": {},
   "outputs": [],
   "source": []
  }
 ],
 "metadata": {
  "kernelspec": {
   "display_name": "Python 3",
   "language": "python",
   "name": "python3"
  },
  "language_info": {
   "codemirror_mode": {
    "name": "ipython",
    "version": 3
   },
   "file_extension": ".py",
   "mimetype": "text/x-python",
   "name": "python",
   "nbconvert_exporter": "python",
   "pygments_lexer": "ipython3",
   "version": "3.7.6"
  }
 },
 "nbformat": 4,
 "nbformat_minor": 4
}
