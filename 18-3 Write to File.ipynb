{
 "cells": [
  {
   "cell_type": "code",
   "execution_count": 2,
   "metadata": {},
   "outputs": [
    {
     "name": "stdout",
     "output_type": "stream",
     "text": [
      "42\n"
     ]
    }
   ],
   "source": [
    "with open('Data Files/writemode.txt','w') as f:\n",
    "    w = \"Hello\\nHow are You\\nWhat's new about COVID19\"\n",
    "    print(f.write(w))"
   ]
  },
  {
   "cell_type": "code",
   "execution_count": 3,
   "metadata": {},
   "outputs": [
    {
     "name": "stdout",
     "output_type": "stream",
     "text": [
      "Hello\n",
      "How are You\n",
      "What's new about COVID19\n"
     ]
    }
   ],
   "source": [
    "with open('Data Files/writemode.txt','r') as f:\n",
    "    print(f.read())"
   ]
  },
  {
   "cell_type": "code",
   "execution_count": 9,
   "metadata": {},
   "outputs": [
    {
     "name": "stdout",
     "output_type": "stream",
     "text": [
      "21\n"
     ]
    }
   ],
   "source": [
    "with open('Data Files/writemode.txt','a') as f:\n",
    "    print(f.write('\\nI am learning Python'))"
   ]
  },
  {
   "cell_type": "code",
   "execution_count": 10,
   "metadata": {},
   "outputs": [
    {
     "name": "stdout",
     "output_type": "stream",
     "text": [
      "Hello\n",
      "How are You\n",
      "What's new about COVID19\n",
      "I am learning Python\n"
     ]
    }
   ],
   "source": [
    "with open('Data Files/writemode.txt','r') as f:\n",
    "    print(f.read())"
   ]
  },
  {
   "cell_type": "code",
   "execution_count": 15,
   "metadata": {},
   "outputs": [
    {
     "name": "stdout",
     "output_type": "stream",
     "text": [
      "19\n",
      "What's new about COVID19\n",
      "I am learning Python\n"
     ]
    }
   ],
   "source": [
    "with open('Data Files/writemode.txt','r+') as f:\n",
    "    print(f.write('\\nWhat you are doing'))\n",
    "    print(f.read())"
   ]
  },
  {
   "cell_type": "code",
   "execution_count": 17,
   "metadata": {},
   "outputs": [
    {
     "name": "stdout",
     "output_type": "stream",
     "text": [
      "\n",
      "What you are doingWhat's new about COVID19\n",
      "I am learning Python\n",
      "What you are doing\n",
      "20\n"
     ]
    }
   ],
   "source": [
    "with open('Data Files/writemode.txt','r+') as f:\n",
    "    print(f.read())\n",
    "    print(f.write('\\nWhat you are doing\\n'))"
   ]
  },
  {
   "cell_type": "code",
   "execution_count": 23,
   "metadata": {},
   "outputs": [
    {
     "name": "stdout",
     "output_type": "stream",
     "text": [
      "19\n",
      "I am learning Python\n"
     ]
    }
   ],
   "source": [
    "with open('Data Files/writemode.txt','r+') as f:\n",
    "    print(f.write('\\nWhat you are doing'))\n",
    "    f.seek(len(f.read()))\n",
    "    print(f.read())"
   ]
  },
  {
   "cell_type": "code",
   "execution_count": null,
   "metadata": {},
   "outputs": [],
   "source": []
  }
 ],
 "metadata": {
  "kernelspec": {
   "display_name": "Python 3",
   "language": "python",
   "name": "python3"
  },
  "language_info": {
   "codemirror_mode": {
    "name": "ipython",
    "version": 3
   },
   "file_extension": ".py",
   "mimetype": "text/x-python",
   "name": "python",
   "nbconvert_exporter": "python",
   "pygments_lexer": "ipython3",
   "version": "3.7.6"
  }
 },
 "nbformat": 4,
 "nbformat_minor": 4
}
