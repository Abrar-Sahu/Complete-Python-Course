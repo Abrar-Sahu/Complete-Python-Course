{
 "cells": [
  {
   "cell_type": "code",
   "execution_count": 1,
   "metadata": {},
   "outputs": [],
   "source": [
    "# can we drive more than one class from base class\n",
    "# multilevel inheritance\n",
    "# method resolution order\n",
    "# method overriding\n",
    "# isinstance() , issubclass"
   ]
  },
  {
   "cell_type": "code",
   "execution_count": 24,
   "metadata": {},
   "outputs": [
    {
     "name": "stdout",
     "output_type": "stream",
     "text": [
      "True\n"
     ]
    }
   ],
   "source": [
    "class Phone():\n",
    "    def __init__(self,brand,model_name,price):\n",
    "        # instance variable\n",
    "        self.brand = brand\n",
    "        self.model_name = model_name\n",
    "        self._price = max(price,0)\n",
    "    def complete_specification(self):\n",
    "         print(f\"{self.brand} {self.model_name} and price is {self._price}\")\n",
    "    def full_name(self):\n",
    "        return f\"{self.brand}{self.model}\"\n",
    "    def make_a_call(self,phone_number):\n",
    "        print(f\"Calling {phone_number} .....\")\n",
    "class smartphone(Phone):\n",
    "    def __init__(self,brand,model_name,price,ram,internal_memory,rare_camera):\n",
    "        super().__init__(brand,model_name,price)\n",
    "        self.ram = ram\n",
    "        self.internal_memory = internal_memory\n",
    "        self.rare_camera = rare_camera\n",
    "    def full_name(self):\n",
    "        return f\"{self.brand}{self.model_name} and price is {self._price}\"\n",
    "class flagshipphone(smartphone):\n",
    "    def __init__(self,brand,model_name,price,ram,internal_memory,rare_camera,front_camera):\n",
    "        super().__init__(brand,model_name,price,ram,internal_memory,rare_camera)\n",
    "        self.front_camera = front_camera\n",
    "    def full_name(self):\n",
    "        return f\"{self.brand}{self.model_name} and price is {self._price} and front camera is {self.front_camera}\"\n",
    "smartphone1 = smartphone('oneplus','5',30000,'6GB','64GB','20MP')\n",
    "oneplus = flagshipphone('oneplus','5',30000,'6GB','64GB','20MP','16MP')\n",
    "phone1 = Phone('Nokia','1100',5000)\n",
    "#print(phone1._price)\n",
    "#print(smartphone.brand)\n",
    "#phone1.complete_specification()\n",
    "#smartphone.complete_specification()\n",
    "#print(help(flagshipphone))\n",
    "#print(oneplus.full_name())\n",
    "#print(isinstance(oneplus,flagshipphone))\n",
    "#print(isinstance(oneplus,Phone))\n",
    "#print(isinstance(smartphone1,smartphone))\n",
    "print(issubclass(smartphone,Phone))"
   ]
  },
  {
   "cell_type": "code",
   "execution_count": null,
   "metadata": {},
   "outputs": [],
   "source": []
  }
 ],
 "metadata": {
  "kernelspec": {
   "display_name": "Python 3",
   "language": "python",
   "name": "python3"
  },
  "language_info": {
   "codemirror_mode": {
    "name": "ipython",
    "version": 3
   },
   "file_extension": ".py",
   "mimetype": "text/x-python",
   "name": "python",
   "nbconvert_exporter": "python",
   "pygments_lexer": "ipython3",
   "version": "3.7.6"
  }
 },
 "nbformat": 4,
 "nbformat_minor": 4
}
