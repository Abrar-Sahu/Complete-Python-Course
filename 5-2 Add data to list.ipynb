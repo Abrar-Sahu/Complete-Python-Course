{
 "cells": [
  {
   "cell_type": "markdown",
   "metadata": {},
   "source": [
    "# Append Method to add data"
   ]
  },
  {
   "cell_type": "code",
   "execution_count": 3,
   "metadata": {},
   "outputs": [
    {
     "name": "stdout",
     "output_type": "stream",
     "text": [
      "['Apple', 'Orange', 'Mango', 'Mango']\n"
     ]
    }
   ],
   "source": [
    "# fruits = [\"Apple\",\"Orange\"]\n",
    "fruits.append(\"Mango\")\n",
    "print(fruits)"
   ]
  },
  {
   "cell_type": "code",
   "execution_count": 4,
   "metadata": {},
   "outputs": [
    {
     "name": "stdout",
     "output_type": "stream",
     "text": [
      "['Banana', 'Coconut']\n"
     ]
    }
   ],
   "source": [
    "fruit = []\n",
    "fruit.append(\"Banana\")\n",
    "fruit.append(\"Coconut\")\n",
    "print(fruit)"
   ]
  },
  {
   "cell_type": "markdown",
   "metadata": {},
   "source": [
    "# More Methods to Add Data"
   ]
  },
  {
   "cell_type": "code",
   "execution_count": null,
   "metadata": {},
   "outputs": [],
   "source": [
    "fruits1 = [\"mango\",\"orange\",\"banana\"]\n",
    "fruits1.insert(2,\"gava\")                         # insert method\n",
    "print(fruits1)"
   ]
  },
  {
   "cell_type": "code",
   "execution_count": 6,
   "metadata": {},
   "outputs": [
    {
     "name": "stdout",
     "output_type": "stream",
     "text": [
      "['mango', 'orange', 'gava', 'banana', 'pineapple', 'bear']\n"
     ]
    }
   ],
   "source": [
    "fruits2 = [\"pineapple\",\"bear\"]\n",
    "fruits3 = fruits1 + fruits2                       # concatenation\n",
    "print(fruits3)"
   ]
  },
  {
   "cell_type": "code",
   "execution_count": 7,
   "metadata": {},
   "outputs": [
    {
     "name": "stdout",
     "output_type": "stream",
     "text": [
      "['mango', 'orange', 'gava', 'banana', 'pineapple', 'bear']\n"
     ]
    }
   ],
   "source": [
    "fruits1.extend(fruits2)                           # extend method\n",
    "print(fruits1)"
   ]
  },
  {
   "cell_type": "code",
   "execution_count": 8,
   "metadata": {},
   "outputs": [
    {
     "name": "stdout",
     "output_type": "stream",
     "text": [
      "['mango', 'orange', 'gava', 'banana', 'pineapple', 'bear', ['pineapple', 'bear']]\n"
     ]
    }
   ],
   "source": [
    "fruits1.append(fruits2)                           # append method\n",
    "print(fruits1)"
   ]
  },
  {
   "cell_type": "code",
   "execution_count": null,
   "metadata": {},
   "outputs": [],
   "source": []
  }
 ],
 "metadata": {
  "kernelspec": {
   "display_name": "Python 3",
   "language": "python",
   "name": "python3"
  },
  "language_info": {
   "codemirror_mode": {
    "name": "ipython",
    "version": 3
   },
   "file_extension": ".py",
   "mimetype": "text/x-python",
   "name": "python",
   "nbconvert_exporter": "python",
   "pygments_lexer": "ipython3",
   "version": "3.7.6"
  }
 },
 "nbformat": 4,
 "nbformat_minor": 4
}
