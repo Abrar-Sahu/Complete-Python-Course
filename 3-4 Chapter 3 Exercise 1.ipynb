{
 "cells": [
  {
   "cell_type": "code",
   "execution_count": 22,
   "metadata": {},
   "outputs": [
    {
     "name": "stdout",
     "output_type": "stream",
     "text": [
      "Enter a number: 45\n",
      "To Low\n"
     ]
    }
   ],
   "source": [
    "winning_number = 56\n",
    "guess_number = int(input(\"Enter a number: \"))\n",
    "if guess_number == winning_number:\n",
    "    print(\"You Win!!\")\n",
    "elif guess_number >= winning_number:\n",
    "    print(\"To High\")\n",
    "else:\n",
    "    print(\"To Low\")"
   ]
  },
  {
   "cell_type": "code",
   "execution_count": null,
   "metadata": {},
   "outputs": [],
   "source": []
  }
 ],
 "metadata": {
  "kernelspec": {
   "display_name": "Python 3",
   "language": "python",
   "name": "python3"
  },
  "language_info": {
   "codemirror_mode": {
    "name": "ipython",
    "version": 3
   },
   "file_extension": ".py",
   "mimetype": "text/x-python",
   "name": "python",
   "nbconvert_exporter": "python",
   "pygments_lexer": "ipython3",
   "version": "3.7.6"
  }
 },
 "nbformat": 4,
 "nbformat_minor": 4
}
