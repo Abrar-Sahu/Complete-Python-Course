{
 "cells": [
  {
   "cell_type": "code",
   "execution_count": 1,
   "metadata": {},
   "outputs": [],
   "source": [
    "# lstrip()\n",
    "# rstrip()\n",
    "# strip()\n",
    "# replace()"
   ]
  },
  {
   "cell_type": "code",
   "execution_count": 2,
   "metadata": {},
   "outputs": [
    {
     "name": "stdout",
     "output_type": "stream",
     "text": [
      "      Abrar      ...................\n"
     ]
    }
   ],
   "source": [
    "name = \"      Abrar      \"\n",
    "dots = \"...................\"\n",
    "print(name + dots)"
   ]
  },
  {
   "cell_type": "code",
   "execution_count": 3,
   "metadata": {},
   "outputs": [
    {
     "name": "stdout",
     "output_type": "stream",
     "text": [
      "Abrar      ...................\n"
     ]
    }
   ],
   "source": [
    "print(name.lstrip() + dots)    # lstrip()"
   ]
  },
  {
   "cell_type": "code",
   "execution_count": 4,
   "metadata": {},
   "outputs": [
    {
     "name": "stdout",
     "output_type": "stream",
     "text": [
      "      Abrar...................\n"
     ]
    }
   ],
   "source": [
    "print(name.rstrip() + dots)     # rstrip()"
   ]
  },
  {
   "cell_type": "code",
   "execution_count": 5,
   "metadata": {},
   "outputs": [
    {
     "name": "stdout",
     "output_type": "stream",
     "text": [
      "Abrar...................\n"
     ]
    }
   ],
   "source": [
    "print(name.strip() + dots)               # strip()"
   ]
  },
  {
   "cell_type": "code",
   "execution_count": 6,
   "metadata": {},
   "outputs": [
    {
     "name": "stdout",
     "output_type": "stream",
     "text": [
      "AbrarSahu\n"
     ]
    }
   ],
   "source": [
    "user_name = \"       Abrar        Sahu       \"\n",
    "user_name = user_name.replace(\" \",\"\")                 # replace()\n",
    "print(user_name)"
   ]
  },
  {
   "cell_type": "code",
   "execution_count": 7,
   "metadata": {},
   "outputs": [
    {
     "name": "stdout",
     "output_type": "stream",
     "text": [
      "AbrarSahu...................\n"
     ]
    }
   ],
   "source": [
    "print(user_name + dots)"
   ]
  },
  {
   "cell_type": "code",
   "execution_count": 9,
   "metadata": {},
   "outputs": [
    {
     "name": "stdout",
     "output_type": "stream",
     "text": [
      "Enter your name and char:            AbrarSahu            ,             A          \n",
      "Length of your name is: 9\n",
      "Total A in AbrarSahu are: 3\n"
     ]
    }
   ],
   "source": [
    "name , char = input(\"Enter your name and char: \").split(\",\")\n",
    "print(f\"Length of your name is: {len(name.strip())}\")\n",
    "print(f\"Total {char.strip()} in {name.strip()} are: {name.strip().lower().count(char.lower().strip())}\")"
   ]
  },
  {
   "cell_type": "code",
   "execution_count": 13,
   "metadata": {},
   "outputs": [
    {
     "name": "stdout",
     "output_type": "stream",
     "text": [
      "Enter your name and char:           abrar           sahu     ,        R       \n",
      "Length of your name is: 20\n",
      "Total R in abrar           sahu are: 2\n"
     ]
    }
   ],
   "source": [
    "name , char = input(\"Enter your name and char: \").split(\",\")\n",
    "print(f\"Length of your name is: {len(name.strip())}\")\n",
    "print(f\"Total {char.strip()} in {name.strip()} are: {name.strip().lower().count(char.lower().strip())}\")"
   ]
  },
  {
   "cell_type": "code",
   "execution_count": null,
   "metadata": {},
   "outputs": [],
   "source": []
  },
  {
   "cell_type": "code",
   "execution_count": null,
   "metadata": {},
   "outputs": [],
   "source": []
  },
  {
   "cell_type": "code",
   "execution_count": null,
   "metadata": {},
   "outputs": [],
   "source": []
  }
 ],
 "metadata": {
  "kernelspec": {
   "display_name": "Python 3",
   "language": "python",
   "name": "python3"
  },
  "language_info": {
   "codemirror_mode": {
    "name": "ipython",
    "version": 3
   },
   "file_extension": ".py",
   "mimetype": "text/x-python",
   "name": "python",
   "nbconvert_exporter": "python",
   "pygments_lexer": "ipython3",
   "version": "3.7.6"
  }
 },
 "nbformat": 4,
 "nbformat_minor": 4
}
