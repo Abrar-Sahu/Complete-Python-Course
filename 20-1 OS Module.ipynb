{
 "cells": [
  {
   "cell_type": "code",
   "execution_count": 2,
   "metadata": {},
   "outputs": [],
   "source": [
    "import os"
   ]
  },
  {
   "cell_type": "code",
   "execution_count": 2,
   "metadata": {},
   "outputs": [
    {
     "name": "stdout",
     "output_type": "stream",
     "text": [
      "C:\\Users\\Abrar Sahu\\3-Harshit Vashishta\n"
     ]
    }
   ],
   "source": [
    "print(os.getcwd())"
   ]
  },
  {
   "cell_type": "code",
   "execution_count": 3,
   "metadata": {},
   "outputs": [],
   "source": [
    "os.mkdir('movies')"
   ]
  },
  {
   "cell_type": "code",
   "execution_count": 4,
   "metadata": {},
   "outputs": [
    {
     "ename": "FileExistsError",
     "evalue": "[WinError 183] Cannot create a file when that file already exists: 'movies'",
     "output_type": "error",
     "traceback": [
      "\u001b[1;31m---------------------------------------------------------------------------\u001b[0m",
      "\u001b[1;31mFileExistsError\u001b[0m                           Traceback (most recent call last)",
      "\u001b[1;32m<ipython-input-4-5c70343ce230>\u001b[0m in \u001b[0;36m<module>\u001b[1;34m\u001b[0m\n\u001b[1;32m----> 1\u001b[1;33m \u001b[0mos\u001b[0m\u001b[1;33m.\u001b[0m\u001b[0mmkdir\u001b[0m\u001b[1;33m(\u001b[0m\u001b[1;34m'movies'\u001b[0m\u001b[1;33m)\u001b[0m\u001b[1;33m\u001b[0m\u001b[1;33m\u001b[0m\u001b[0m\n\u001b[0m",
      "\u001b[1;31mFileExistsError\u001b[0m: [WinError 183] Cannot create a file when that file already exists: 'movies'"
     ]
    }
   ],
   "source": [
    "os.mkdir('movies')"
   ]
  },
  {
   "cell_type": "code",
   "execution_count": 5,
   "metadata": {},
   "outputs": [
    {
     "name": "stdout",
     "output_type": "stream",
     "text": [
      "True\n"
     ]
    }
   ],
   "source": [
    "print(os.path.exists('movies'))"
   ]
  },
  {
   "cell_type": "code",
   "execution_count": 8,
   "metadata": {},
   "outputs": [
    {
     "name": "stdout",
     "output_type": "stream",
     "text": [
      "Already Exists\n"
     ]
    }
   ],
   "source": [
    "if os.path.exists('movies'):\n",
    "    print('Already Exists')\n",
    "else:\n",
    "    os.mkdir('movies')"
   ]
  },
  {
   "cell_type": "code",
   "execution_count": 10,
   "metadata": {},
   "outputs": [],
   "source": [
    "open('Data Files/OS.txt','a').close()"
   ]
  },
  {
   "cell_type": "code",
   "execution_count": 11,
   "metadata": {},
   "outputs": [],
   "source": [
    "os.mkdir(r'D:\\BS-CS\\movies')"
   ]
  },
  {
   "cell_type": "code",
   "execution_count": 12,
   "metadata": {},
   "outputs": [
    {
     "name": "stdout",
     "output_type": "stream",
     "text": [
      "['.ipynb_checkpoints', '1-1 Print Function.ipynb', '1-2 Escape Sequences.ipynb', '1-3 Comments.ipynb', '1-4 Escape Sequences as Normal Text.ipynb', '1-5 Chapter 1 Exercise Solution.ipynb', '1-6 Raw Strings.ipynb', '1-7 emoji.ipynb', '1-8 Calculator.ipynb', '1-9 Variables.ipynb', '10-1 Dictionary Comprehension.ipynb', '10-2 if else in dictionary comprehension.ipynb', '10-3 Set Comprehension.ipynb', '11-1 intro to (star args) or (star operator).ipynb', '11-2 star args with normal parameter.ipynb', '11-3 star args as a argument.ipynb', '11-4 Chapter 11 Exercise 1.ipynb', '11-5 Kwargs.ipynb', '11-6 function with all type of parameters.ipynb', '11-7 Chapter 11 Exercise 2.ipynb', '11-8 Chapter 11 Summary.ipynb', '12-1 Lambda Expression.ipynb', '13-1 Enumerate () Function.ipynb', '13-2 map () function.ipynb', '13-3 filter () function.ipynb', '13-4 iterator vs iterable.ipynb', '13-5 zip function.ipynb', '13-6 Advance function practice.ipynb', '13-7 any(), all() function.ipynb', '13-8 advance min() and max().ipynb', '13-9 advanced sorted function.ipynb', '14-1 Pass function as argument.ipynb', '14-2 function returning function.ipynb', '16-1 OOP Intro.ipynb', '16-10 Multilevel Inheritance.ipynb', '16-11 Multiple Inheritance.ipynb', '16-2 Instance Methods.ipynb', '16-3 Class Variable.ipynb', '16-4 Class Method.ipynb', '16-5 Class Method as a Constructure.ipynb', '16-6 Static Method.ipynb', '16-7 Encapsulation, Abstraction, Naming Conventions, Name Merging.ipynb', '16-8 Property, Setter, Decorater.ipynb', '16-9 Inheritance Intro.ipynb', '17-1 Intro to Built in Errors.ipynb', '17-2 Raise Errors.ipynb', '17-3 Exceptions Handling.ipynb', '17-4 else and finally block.ipynb', '17-5 Chapter 17 Exercises.ipynb', '17-6 Custom Exceptions.ipynb', '17-7 Debugging.ipynb', '18-1 Read Text File.ipynb', '18-2 With Block.ipynb', '18-3 Write to File.ipynb', '18-4 Read and Write.ipynb', '18-5 Chapter 18 Exercise 1.ipynb', '19-1 Read Love Story.ipynb', '19-2 CSV  Files.ipynb', '2-1 String Concatenation.ipynb', '2-10 Chapter 2 Exercise 2 Solution.ipynb', '2-11 String Methods.ipynb', '2-12 Chapter 2 Exercise 3 Solution.ipynb', '2-13 Strip Method.ipynb', '2-14 Replace and Find Method.ipynb', '2-15 Center Method.ipynb', '2-16 Strings are Immutable.ipynb', '2-17 Assignment Operators.ipynb', '2-18 Chapter 2 Summary.ipynb', '2-2 User Input.ipynb', '2-3 Int Function.ipynb', '2-4 Two or more inputs in one Variable.ipynb', '2-5 String Formating.ipynb', '2-6 Chapter 2 Exercise Solution.ipynb', '2-7 String Indexing.ipynb', '2-8 String Slicing.ipynb', '2-9 Step Argument.ipynb', '20-1 OS Module.ipynb', '3-1 If Statement.ipynb', '3-10 While Loop.ipynb', '3-11 Chapter 3 Exercise 3, 4, 5.ipynb', '3-12 Infinite Loop.ipynb', '3-13 For Loop.ipynb', '3-14 Break and Continue Keyword.ipynb', '3-15 Number Guessing Game , Chapter 3 Exercise 6.ipynb', '3-16 Step Argument in For Loop.ipynb', '3-17 for loop strings.ipynb', '3-18 Chapter 3 Summary.ipynb', '3-2 Pass Statement.ipynb', '3-3 If else Statement.ipynb', '3-4 Chapter 3 Exercise 1.ipynb', '3-5 AND OR operator.ipynb', '3-6 Chapter 3 Exercise 2.ipynb', '3-7 if elif else statement.ipynb', '3-8 in keyword.ipynb', '3-9 Check empty or not.ipynb', '4-1 Functions.ipynb', '4-2 print vs return.ipynb', '4-3 Functions practice.ipynb', '4-4 Chapter 4 Exercise 1.ipynb', '4-5 Function inside function.ipynb', '4-6 Chapter 4 Exercise 2.ipynb', '4-7 Fibonaci Series.ipynb', '4-8 Default Parameters.ipynb', '4-9 Scope of Variable.ipynb', '5-1 Lists.ipynb', '5-10 Looping in Lists.ipynb', '5-11 List inside List.ipynb', '5-12 more about list.ipynb', '5-13 Chapter 5 Exercises.ipynb', '5-14 Min and Max function.ipynb', '5-15 Chapter 5 Exercise 6.ipynb', '5-16 Chapter 5 Summary.ipynb', '5-2 Add data to list.ipynb', '5-3 Delete data from list.ipynb', '5-4 in keyword in list.ipynb', '5-5 Some more list methods.ipynb', '5-6 is vs equal, compare list.ipynb', '5-7 join and split method.ipynb', '5-8 Lists vs Arrays.ipynb', '5-9 list vs string.ipynb', '6-1 Tuples.ipynb', '6-2 More about tuples.ipynb', '6-3 Function returning two values.ipynb', '6-4 Chapter 6 Summary.ipynb', '7-1 Dictionaries.ipynb', '7-2 Looping and in keyword , in dictionaries.ipynb', '7-3 add & delete data from dictionaries.ipynb', '7-4 Update Method.ipynb', '7-5 fromkeys, get, clear and copy method.ipynb', '7-5 More about get() method.ipynb', '7-6 Chapter 7 Exercise 1,2.ipynb', '7-7 Chapter 7 Summary.ipynb', '7-7 Word Counter.ipynb', '8-1 Set.ipynb', '8-2 More about set.ipynb', '9-1 List Comprehension.ipynb', '9-2 Chapter 9 Exercise 1,2.ipynb', '9-3 if statement in list comprehension.ipynb', '9-4 if else statement in list comprehension.ipynb', '9-5 Nested List Comprehension.ipynb', '9-6 Chapter 9 Summary.ipynb', 'Data Files', 'movies']\n"
     ]
    }
   ],
   "source": [
    "print(os.listdir())"
   ]
  },
  {
   "cell_type": "code",
   "execution_count": 13,
   "metadata": {},
   "outputs": [
    {
     "name": "stdout",
     "output_type": "stream",
     "text": [
      "['2nd Semester', '3rd Semester', '4th Semester', '5th Semester', 'C++ in urdu', 'CS by Harvard', \"Jack Ma I've Had Lots Of Failures And Rejections  Davos 2015.mp4\", 'java', 'movies', 'NetBeansProjects', 'Python Expert']\n"
     ]
    }
   ],
   "source": [
    "print(os.listdir(r'D:\\BS-Cs'))"
   ]
  },
  {
   "cell_type": "code",
   "execution_count": 14,
   "metadata": {},
   "outputs": [
    {
     "name": "stdout",
     "output_type": "stream",
     "text": [
      "['$Recycle.Bin', '360SANDBOX', 'Adab Point', 'Books', 'BS-CS', 'CURRICULUM VITAE.pdf', 'download', 'Drama', 'Front Page Lab.docx', 'Harvard', 'Idea Spot', 'M Abbas', 'Mix', 'New folder', 'Others', 'Photos', 'Pycharm Projects', 'q', 'Recordings', 'System Volume Information', 'video', 'WinPEpge.sys']\n"
     ]
    }
   ],
   "source": [
    "print(os.listdir(r'D:'))"
   ]
  },
  {
   "cell_type": "code",
   "execution_count": null,
   "metadata": {},
   "outputs": [],
   "source": []
  },
  {
   "cell_type": "code",
   "execution_count": null,
   "metadata": {},
   "outputs": [],
   "source": []
  },
  {
   "cell_type": "code",
   "execution_count": 3,
   "metadata": {},
   "outputs": [
    {
     "name": "stdout",
     "output_type": "stream",
     "text": [
      "current path : D:\\Adab Point\n",
      "folder names : ['Jokes in Urdu', 'Man-done', 'Mix-done', 'Nature', 'New', 'Pictures', 'Quotes PDF', 'Saved Pictures', 'SEO Lecture', 'Work']\n",
      "file names : ['Capture.JPG', 'End Screen - 25104.mp4', 'Free Stock Images Websites-.pdf', 'Inspirational Quotes.docx', 'Instagram.pdf', 'InstallScreencastOMatic-2.0.exe', 'Motivational Quotes.docx', 'Motivational.pdf', 'MovaviFreeOnlineScreenRecorderSetup.exe', 'Poetry.docx', 'Quotes-done.docx', 'stock-footage--k-motion-graphic-flat-animation-footage-video-template-intro-opening-clip-animated-colorful.webm', 'stock-footage-colorful-neon-light-effect-like-share-and-subscribe-signs-motion-graphics.webm', 'stock-footage-like-share-subscribe-animated-text-with-modern-twist-template-intro-opening-clip.webm', 'stock-footage-like-share-subscribe-neon-lamp-animated-message-background-retro-style-social-media-vlog-end.webm', 'stock-footage-thanks-for-watching-like-share-comment-animated-text-with-modern-twist.webm', 'Tag - 18765.mp4', 'The Best Quotes Websites-.pdf', 'your-logo.png', 'Youtube - 27477.mp4']\n",
      "current path : D:\\Adab Point\\Jokes in Urdu\n",
      "folder names : []\n",
      "file names : ['1.jpg', '13.jpg', '2.jpg', '20.jpg', '3.jpg', '4.jpg', '6.jpg', '7.jpg']\n",
      "current path : D:\\Adab Point\\Man-done\n",
      "folder names : []\n",
      "file names : ['accomplishment-action-adult-1058958.jpg', 'achievement-action-adventure-209209.jpg', 'action-active-adult-1094794.jpg', 'adventure-challenge-climb-1340510.jpg', 'alex-blajan-QDPFWFCHes4-unsplash.jpg', 'alex-woods-pZVi92S-ZMs-unsplash.jpg', 'ana-maria-nichita-BI91NrppE38-unsplash.jpg', 'arrul-lin-sYhUhse5uT8-unsplash.jpg', 'ayo-ogunseinde-FpE8zczkufQ-unsplash.jpg', 'ben-rosett-WdJkXFQ4VHY-unsplash.jpg', 'ben-white-9O1oQ9SzQZQ-unsplash.jpg', 'ben-white-XY_2eIloHY4-unsplash.jpg', 'brooke-cagle-4gfbg7IulGA-unsplash.jpg', 'brooke-cagle-R0Ea06wC2IM-unsplash.jpg', 'brooke-cagle-wKOKidNT14w-unsplash.jpg', 'bruce-mars-AndE50aaHn4-unsplash.jpg', 'christopher-campbell-i4OHxtxiMtk-unsplash.jpg', 'clem-onojeghuo-6dvxVmG5nUU-unsplash.jpg', 'clique-images-hSB2HmJYaTo-unsplash.jpg', 'cristian-lozan-EdA845C1yXc-unsplash.jpg', 'cristian-newman-wGKCaRbElmk-unsplash.jpg', 'daniel-pascoa-PMVBRYY9F3s-unsplash.jpg', 'danka-peter-ykKS3a0iutM-unsplash.jpg', 'dawid-zawila-5nh9BBFwVQg-unsplash.jpg', 'dean-rose-602678-unsplash.jpg', 'eduardo-dutra-Is_jnQOc-EQ-unsplash.jpg', 'foto-sushi-6anudmpILw4-unsplash.jpg', 'francois-hoang-xxZCfAnMUrM-unsplash.jpg', 'gregory-hayes-2guarBycJJQ-unsplash.jpg', 'gregory-hayes-h5cd51KXmRQ-unsplash.jpg', 'iulia-mihailov-Jn3_uxVmyuA-unsplash.jpg', 'jakob-owens-lkMJcGDZLVs-unsplash.jpg', 'janko-ferlic-aWQhVALvDZ4-unsplash.jpg', 'jared-sluyter-das6NrjLoM0-unsplash.jpg', 'jens-lindner-dP6g1YJWQcA-unsplash.jpg', 'jeremy-cai-OeV7iGqJQt0-unsplash.jpg', 'joseph-pearson-827XUhVSp8M-unsplash.jpg', 'joshua-earle-6V19Uy-tUhs-unsplash.jpg', 'kal-visuals-fMIsAL72P3U-unsplash.jpg', 'karl-fredrickson-DsAjH9B24G8-unsplash.jpg', 'krystian-krzewinski-SZ9y9PGVQbY-unsplash.jpg', 'kyle-simmons-7SjiMVQ8i10-unsplash.jpg', 'lachlan-dempsey-6VPEOdpFNAs-unsplash.jpg', 'men-1245982_1920.jpg', 'micah-KgNZGaCEmSE-unsplash.jpg', 'michael-mcauliffe-QnfePA4j-IQ-unsplash.jpg', 'mohammad-faruque-TwuPHbcQ57w-unsplash.jpg', 'moon-aJeH0KcFkuc-unsplash.jpg', 'morning-2264051_1280.jpg', 'nith-in-w1N1WmLDyHU-unsplash.jpg', 'quinten-de-graaf-iwBfqKwaJQI-unsplash.jpg', 'r-a-gDoNB_BCkdE-unsplash.jpg', 'romain-lours-f8WCi-e7xKI-unsplash.jpg', 'sead-dedic-712626-unsplash.jpg', 'sharon-garcia-MUJcDmOlyDs-unsplash.jpg', 'shotinraww-gYezIhYbwzI-unsplash.jpg', 'shttefan-Q--oPI42ArQ-unsplash.jpg', 'simon-migaj-775713-unsplash.jpg', 'stefan-spassov-jtTqIwvGiUg-unsplash.jpg', 'steve-halama-458728-unsplash.jpg', 'tim-bogdanov-4uojMEdcwI8-unsplash.jpg', 'toby-christopher-P-CeaGknSJA-unsplash.jpg', 'warren-wong-u7dy-n4uZVk-unsplash.jpg', 'warren-wong-uuVguyksViA-unsplash.jpg', 'whoislimos-kFVmYjK6hZ8-unsplash.jpg', 'wil-stewart-_XpHc4Qy-8k-unsplash.jpg']\n",
      "current path : D:\\Adab Point\\Mix-done\n",
      "folder names : []\n",
      "file names : ['adventure-asphalt-daylight-1955134.jpg', 'alexander-possingham-nb04de6m0rM-unsplash.jpg', 'brett-patzke-pYeO_rIZ1EM-unsplash.jpg', 'desert-1101123_1280.jpg', 'feet-1245957_1920.jpg', 'fiat-4322521_1920.jpg', 'flowers-4050541_1920.jpg', 'friends-3408314_1920.jpg', 'grass-1913167_1920.jpg', 'hamburg-4103406_1920.jpg', 'joanna-nix-9cSBAO2LnGI-unsplash.jpg', 'joshua-sortino-1281249-unsplash.jpg', 'joshua-sortino-215039-unsplash.jpg', 'joshua-sortino-431615-unsplash.jpg', 'kenrick-mills-AXl12_Q-yTU-unsplash.jpg', 'kristopher-roller-PC_lbSSxCZE-unsplash.jpg', 'lionello-delpiccolo-2r-Py5lANNU-unsplash.jpg', 'mark-harpur-K2s_YE031CA-unsplash.jpg', 'randy-jacob-B95VRTAEf-M-unsplash.jpg', 'start-line-3449607_1920.jpg', 'success-1433400_1920.jpg', 'tertia-van-rensburg-QYs58HmCz-s-unsplash.jpg', 'tiagojoaoreis-BDW11tGGIAs-unsplash.jpg', 'vek-labs-e8ofKlNHdsg-unsplash.jpg', 'wave-3879331_1920.jpg']\n",
      "current path : D:\\Adab Point\\Nature\n",
      "folder names : []\n",
      "file names : ['autumn-2800880_1920.jpg', 'crocus-4077848_1920.jpg', 'floral-865823_1920.jpg', 'joel-peel-mAMRpBlah-s-unsplash.jpg', 'joshua-gresham-oh4k4ZVz4Uk-unsplash.jpg', 'joshua-sortino-224915-unsplash.jpg', 'joshua-sortino-331403-unsplash.jpg', 'joshua-sortino-rAqzj79GUmA-unsplash.jpg', 'joshua-sortino-uAcrEhN8JEQ-unsplash.jpg', 'joshua-sortino-XMcoTHgNcQA-unsplash.jpg', 'joshua-sortino-xZqr8WtYEJ0-unsplash.jpg', 'kyle-glenn-hn2Xf1sK_y4-unsplash.jpg', 'toa-heftiba-90C5NsvBzwg-unsplash.jpg']\n",
      "current path : D:\\Adab Point\\New\n",
      "folder names : []\n",
      "file names : ['adult-1867665_1920.jpg', 'adult-1869621_1280.jpg', 'bag-1868758_1280.jpg', 'book-1209805_1280.jpg', 'boy-1822614_1280.jpg', 'california-210913_1920.jpg', 'city-1487891_1920.jpg', 'corona-4970836_1920.jpg', 'light-1030988_1920.jpg', 'light-bulb-1246043_1920.jpg', 'man-1156543_1280.jpg', 'man-1246233_1920.jpg', 'man-3915438_1920.jpg', 'man-731900_1280.jpg', 'man-under-waterfall-2150164_1920.jpg', 'norway-772991_1920.jpg', 'orbs-4967554_1920.jpg', 'people-2604149_1920.jpg', 'road-220058_1280.jpg', 'the-road-815297_1920.jpg', 'together-2643652_1280.jpg', 'woodland-656969_1920.jpg']\n",
      "current path : D:\\Adab Point\\Pictures\n",
      "folder names : ['Download', 'Poetry in urdu', 'Quotes']\n",
      "file names : ['21.jpg', 'Capture.JPG', 'Capture1.PNG', 'Capture10.JPG', 'Capture11.JPG', 'Capture12.JPG', 'Capture13.JPG', 'Capture14.JPG', 'Capture15.JPG', 'Capture16.JPG', 'Capture17.JPG', 'Capture2.PNG', 'copy.jpg', 'copy1.jpg', 'copy10.jpg', 'copy11.jpg', 'copy12.jpg', 'copy13.jpg', 'copy14.jpg', 'copy15.jpg', 'copy19.jpg', 'copy2.jpg', 'copy20.jpg', 'copy21.jpg', 'copy22.jpg', 'copy3.jpg', 'copy4.jpg', 'copy5.jpg', 'copy6.jpg', 'copy7.jpg', 'copy8.jpg', 'copy9.jpg', 'crocus-4077848_19201.jpg', 'desert-1101123_1280.jpg', 'desktop.ini', 'floral-865823_1920.jpg', 'friends-3408314_1920.jpg', 'friends-3408314_19201.jpg', 'friends-3408314_19203.jpg', 'Funny-Mr-Bean-Mask-For-Halloween-Picture.jpg', 'ice_screenshot_20190725-220538.png', 'Rich Snippets Tool.JPG', 'success-1433400_1920.jpg', 'Untitled-1.jpg', 'Untitled-11.jpg', 'Untitled-111.jpg']\n",
      "current path : D:\\Adab Point\\Pictures\\Download\n",
      "folder names : []\n",
      "file names : ['09106678312979.Y3JvcCwxMzgwLDEwODAsNTM2LDA.jpg', '14189978384457.5ca3770a31fea.jpg', '162365.53abfcaae019c.jpg', '186002.53ac319d5a5ff.jpg', '1a3ca378384457.5ca3770a3299c(1).jpg', '1db23e75819519.Y3JvcCwxOTk5LDE1NjQsMCwyMTc.png', '2121e91973695.5c49844d7b836.jpg', '29a75378175755.Y3JvcCwxNzA0LDEzMzMsMTQ3LDA.jpg', '30121e78108591.Y3JvcCwxNDQwLDExMjYsMCwyMjA.jpg', '320c9378384457.5ca3770a33466.jpg', '332a471526761.5a7230cd63916.png', '35136a76154931.Y3JvcCw3MjUsNTY3LDMyNSwxMjk.jpg', '3a1a6e78809023.Y3JvcCwyMTI4LDE2NjQsNDQyLDA.jpg', '3ef43978384457.5ca3770a33c0a.jpg', '461a2772198543.Y3JvcCwxNzk0LDE0MDMsMjM1LDQzOQ.jpg', '48650b78512711.5cb04a87ae6da.jpg', '496d8676207891.5c659261d3f95.jpg', '523c961041219.56faa938ac12c.png', '6e95f375852517.5c65f82c85249.jpg', '6eaed8107441.5c4065036a4ce.jpg', '7193c176466139.Y3JvcCw5MDcsNzA5LDI0MCw2Mg.jpg', '71a9b468006333.Y3JvcCwxMTEyLDg3MCw0MSwxNjI.jpg', '75baf861515975.5a3950741f1b5.jpg', '771076706114.590b07d2cad4d.jpg', '94ed0378249097.Y3JvcCwxNDAwLDEwOTUsMCw0NTA.jpg', '9ab17678448141.Y3JvcCwxMTkyLDkzMywxMzUsMA.jpg', '9d516978384457.5ca3770a32c9f.jpg', 'aa486278373631.Y3JvcCwxNDAwLDEwOTUsMCwyNTY.jpg', 'ad8dbd78268429.Y3JvcCwxMTgxLDkyMywwLDEyOA.jpg', 'b3082976349833.Y3JvcCw2MzQsNDk2LDM2MywxMDI.jpg', 'b6299465482065.Y3JvcCwxNDAzLDEwOTgsMCwzMjI.jpg', 'b72dcd75049679.Y3JvcCw2MDgsNDc2LDM5NiwyNjU.jpg', 'b78ac478178153.Y3JvcCwxMTkyLDkzMywxMDMsMA.jpg', 'bc845278667153.Y3JvcCwxNzI1LDEzNTAsMzM3LDA.jpg', 'bd539478384457.Y3JvcCw3NjYsNTk5LDU4MiwxMjE.jpg', 'bda06578384457.5ca3770a3306f.jpg', 'c39a3c63499365.Y3JvcCw4OTQsNzAwLDI1Miww.jpg', 'c4c27f78225959.Y3JvcCwxMjAwLDkzOCwwLDU4Mg.jpg', 'c5ad7462545457.Y3JvcCwxMTc5LDkyMywyMCwxMjU.jpg', 'c9f8fe65893499.5b11ad15efe2b.jpg', 'cc089890995385.5c1ba59d1456d.png', 'cfb7ce78221329.Y3JvcCw4NjIsNjc1LDE3MCww.jpg', 'd2fa9978384457.5ca3770a3269e.jpg', 'd7d06478384457.5ca3770a32353.jpg', 'd9b11540752507.5793932586496.jpg', 'd9b25b78218395.Y3JvcCwxNjE2LDEyNjQsMCww.jpg', 'df13f468366061.Y3JvcCw5OTksNzgyLDAsMjE1.jpg', 'e5a60c78139235.Y3JvcCwxNTAwLDExNzMsMCw3MjQ.jpg', 'eba5c478178301.Y3JvcCwxMDE5LDc5Nyw2OCwyNTc.jpg', 'ec762178508645.5ca687e4350f5.jpg', 'ecde9174180097.5c618f87051c3.jpg', 'ee767f78332369.Y3JvcCw2MzExLDQ5MzcsNTQ2LDA.jpg', 'f00f54761823.5bd02560d736d.png', 'f8998658036.5819d8202b470.png', 'fa2acc10622931.5c95ca36722b6.jpg', 'fdd92478297265.Y3JvcCw4NjIsNjc1LDE3Myww.png', 'illustrator.png', 'no-image-115.png', 'photoshop.png']\n",
      "current path : D:\\Adab Point\\Pictures\\Poetry in urdu\n",
      "folder names : ['Funny', 'Love', 'Romantic', 'Sad']\n",
      "file names : []\n",
      "current path : D:\\Adab Point\\Pictures\\Poetry in urdu\\Funny\n",
      "folder names : []\n",
      "file names : ['11.jpg', '12.jpg', '14.jpg', '5.jpg']\n",
      "current path : D:\\Adab Point\\Pictures\\Poetry in urdu\\Love\n",
      "folder names : []\n",
      "file names : ['18.jpg', 'done.jpg']\n",
      "current path : D:\\Adab Point\\Pictures\\Poetry in urdu\\Romantic\n",
      "folder names : []\n",
      "file names : ['17.jpg', '19.jpg', '8.jpg', 'done.jpg']\n",
      "current path : D:\\Adab Point\\Pictures\\Poetry in urdu\\Sad\n",
      "folder names : []\n",
      "file names : ['done-1.jpg', 'done.jpg']\n",
      "current path : D:\\Adab Point\\Pictures\\Quotes\n",
      "folder names : ['Best', 'Inspirational', 'Life', 'Love', 'Motivational']\n",
      "file names : ['joshua-sortino-IlvY3z4KVCI-unsplash.jpg']\n",
      "current path : D:\\Adab Point\\Pictures\\Quotes\\Best\n",
      "folder names : []\n",
      "file names : ['14.jpg', '18.jpg', '21.jpg', '38.jpg', '6.jpg', 'done-1.jpg', 'done-2.jpg', 'erico-marcelino-91QHQ3GGh9I-unsplash.jpg']\n",
      "current path : D:\\Adab Point\\Pictures\\Quotes\\Inspirational\n",
      "folder names : []\n",
      "file names : ['15.jpg', '2.jpg', '31.jpg', '33.jpg', '36.jpg', '5.jpg', '7.jpg', 'done-1.jpg', 'done-2.jpg']\n",
      "current path : D:\\Adab Point\\Pictures\\Quotes\\Life\n",
      "folder names : []\n",
      "file names : ['12.jpg', '16.jpg', '17.jpg', '22.jpg', '24.jpg', '25.jpg', '26.jpg', '34.jpg', 'done-1.jpg', 'done-2.jpg']\n",
      "current path : D:\\Adab Point\\Pictures\\Quotes\\Love\n",
      "folder names : []\n",
      "file names : ['10.5.jpg', '23.14 done.jpg', '27.10 done.jpg', '28.12 done.jpg', '29.jpg', '35.jpg', '37.jpg', '39.jpg', '42.jpg', 'done-1.jpg', 'done-2.jpg']\n",
      "current path : D:\\Adab Point\\Pictures\\Quotes\\Motivational\n",
      "folder names : []\n",
      "file names : ['1.2.jpg', '10.15.jpg', '11.17.jpg', '12.16.jpg', '13.6 done.jpg', '14.20.jpg', '15.21.jpg', '16.jpg', '17.jpg', '19.8 done.jpg', '2.jpg', '3.3.jpg', '4.1.jpg', '40.jpg', '41.jpg', '5.4.jpg', '6.7.jpg', '7.jpg', '8.18.jpg', '9.9.jpg', 'done-1.jpg', 'done-2.jpg']\n",
      "current path : D:\\Adab Point\\Quotes PDF\n",
      "folder names : []\n",
      "file names : ['365DailyQuotes.pdf', 'epdf.pub_1001-motivational-quotes-for-success-great-quotes-.pdf', 'epdf.pub_great-motivation-secrets-of-great-leaders.pdf', 'epdf.pub_great-quotes-from-great-leaders.pdf', 'epdf.pub_great-quotes-from-zig-ziglar.pdf', 'epdf.pub_power-quotes.djvu', 'epdf.pub_quotable-quotes.djvu', 'epdf.pub_quotes.pdf', 'magic quotes.pdf', 'quotes.pdf', 'quotes_learning.pdf', 'res_39 quotes.pdf']\n",
      "current path : D:\\Adab Point\\Saved Pictures\n",
      "folder names : ['John Eliya', 'Quotes']\n"
     ]
    },
    {
     "name": "stdout",
     "output_type": "stream",
     "text": [
      "file names : ['1.jpg', '10.jpg', '11.jpg', '12.jpg', '13.jpg', '2.jpg', '3.jpg', '4.jpg', '5.jpg', '6.jpg', '7.jpg', '8.jpg', '9.jpg', 'desktop.ini']\n",
      "current path : D:\\Adab Point\\Saved Pictures\\John Eliya\n",
      "folder names : []\n",
      "file names : ['1.jpg', '2.jpg', '3.jpg', '4.jpg', '5.jpg']\n",
      "current path : D:\\Adab Point\\Saved Pictures\\Quotes\n",
      "folder names : []\n",
      "file names : ['1.jpg', '10.jpg', '11.jpg', '12.jpg', '13.jpg', '14.jpg', '15.jpg', '16.jpg', '17.jpg', '18.jpg', '19.jpg', '2.jpg', '20.jpg', '21.jpg', '22.jpg', '23.jpg', '24.jpg', '25.jpg', '26.jpg', '27.jpg', '28.jpg', '29.jpg', '3.jpg', '30.jpg', '31.jpg', '32.jpg', '33.jpg', '34.jpg', '35.jpg', '36.jpg', '37.jpg', '38.jpg', '39.jpg', '4.jpg', '40.jpg', '41.jpg', '42.jpg', '43.jpg', '44.jpg', '45.jpg', '46.jpg', '47.jpg', '48.jpg', '49.jpg', '5.jpg', '50.jpg', '51.jpg', '52.jpg', '53.jpg', '54.jpg', '55.jpg', '56.jpg', '57.jpg', '58.jpg', '59.jpg', '6.jpg', '60.jpg', '61.jpg', '62.jpg', '63.jpg', '64.jpg', '65.jpg', '66.jpg', '67.jpg', '68.jpg', '69.jpg', '7.jpg', '70.jpg', '8.jpg', '9.jpg']\n",
      "current path : D:\\Adab Point\\SEO Lecture\n",
      "folder names : ['Videos']\n",
      "file names : ['1-What is SEO.pptx', '10-How to create Google Ads account for keyword planner.pptx', '12-How to organize your keyword research.pptx', '14-Keyword Research with some other free and paid tools.pptx', '15-What is HTML & HTML Meta Tags & Importance.pptx', '16-What are Pages & types of pages in a website.pptx', '17-What is On-Page Optimization.pptx', '18-Keywords in HTML Meta tags.pptx', '2-What is Search Engine.pptx', '20-Optimizing Content with Keywords and Synonyms.pptx', '21-LSI keywords in content.pptx', '3-How Google Search Works.pptx', '4-What are SEO Ranking Factors.pptx', '5-ON-Page Optimization vs OFF-Page Optimization.pptx', '6-White Hat vs Grey Hat vs Black Hat SEO.pptx', '7-Difference between Organic SEO vs SEM.pptx', '8-What is PESO model in SEO.pptx', '9-Complete Introduction to keywords.pptx', 'Recording #15.mp4']\n",
      "current path : D:\\Adab Point\\SEO Lecture\\Videos\n",
      "folder names : []\n",
      "file names : ['1-What is SEO.mp4', '2-What is Search Engine.mp4', '4-What are SEO Ranking Factors.mp4', '5-ON-Page Optimization vs OFF-Page Optimization.mp4', '6-White Hat vs Grey Hat vs Black Hat SEO.mp4', '7-Difference between Organic SEO vs SEM.mp4', '8-What is PESO model in SEO.mp4', '9-Complete Introduction to keywords.mp4']\n",
      "current path : D:\\Adab Point\\Work\n",
      "folder names : []\n",
      "file names : ['adab.jpg', 'Baby-Mr-Bean-Very-Funny-Image.jpg', 'carolburnett1-2x.jpg', 'download (1).jpg', 'download.jpg', 'download.png', 'Funny-Mr-Bean-Baby-Face-Swap-Image.jpg', 'Funny-Mr-Bean-Mask-For-Halloween-Picture.jpg', 'images (1).jpg', 'images (1).png', 'images (2).jpg', 'images (3).jpg', 'images (4).jpg', 'images.jpg', 'images.png', 'sadaqa-for-janaza-7.jpg']\n"
     ]
    }
   ],
   "source": [
    "fileiter = os.walk(r'D:\\Adab Point')\n",
    "for current_path,folder_names,file_names in fileiter:\n",
    "    print(f'current path : {current_path}')\n",
    "    print(f'folder names : {folder_names}')\n",
    "    print(f'file names : {file_names}')"
   ]
  },
  {
   "cell_type": "code",
   "execution_count": 6,
   "metadata": {},
   "outputs": [
    {
     "ename": "OSError",
     "evalue": "[WinError 145] The directory is not empty: 'D:\\\\Adab Point\\\\Delete'",
     "output_type": "error",
     "traceback": [
      "\u001b[1;31m---------------------------------------------------------------------------\u001b[0m",
      "\u001b[1;31mOSError\u001b[0m                                   Traceback (most recent call last)",
      "\u001b[1;32m<ipython-input-6-705adbc92842>\u001b[0m in \u001b[0;36m<module>\u001b[1;34m\u001b[0m\n\u001b[1;32m----> 1\u001b[1;33m \u001b[0mos\u001b[0m\u001b[1;33m.\u001b[0m\u001b[0mrmdir\u001b[0m\u001b[1;33m(\u001b[0m\u001b[1;34mr'D:\\Adab Point\\Delete'\u001b[0m\u001b[1;33m)\u001b[0m\u001b[1;33m\u001b[0m\u001b[1;33m\u001b[0m\u001b[0m\n\u001b[0m",
      "\u001b[1;31mOSError\u001b[0m: [WinError 145] The directory is not empty: 'D:\\\\Adab Point\\\\Delete'"
     ]
    }
   ],
   "source": [
    "os.rmdir(r'D:\\Adab Point\\Delete')"
   ]
  },
  {
   "cell_type": "code",
   "execution_count": 7,
   "metadata": {},
   "outputs": [],
   "source": [
    "import shutil"
   ]
  },
  {
   "cell_type": "code",
   "execution_count": 9,
   "metadata": {},
   "outputs": [],
   "source": [
    "shutil.rmtree(r'D:\\Adab Point\\Delete')"
   ]
  },
  {
   "cell_type": "code",
   "execution_count": 18,
   "metadata": {},
   "outputs": [
    {
     "data": {
      "text/plain": [
       "'Documents/New'"
      ]
     },
     "execution_count": 18,
     "metadata": {},
     "output_type": "execute_result"
    }
   ],
   "source": [
    "shutil.copytree(r'D:\\Adab Point\\New','Documents/New')"
   ]
  },
  {
   "cell_type": "code",
   "execution_count": null,
   "metadata": {},
   "outputs": [],
   "source": []
  }
 ],
 "metadata": {
  "kernelspec": {
   "display_name": "Python 3",
   "language": "python",
   "name": "python3"
  },
  "language_info": {
   "codemirror_mode": {
    "name": "ipython",
    "version": 3
   },
   "file_extension": ".py",
   "mimetype": "text/x-python",
   "name": "python",
   "nbconvert_exporter": "python",
   "pygments_lexer": "ipython3",
   "version": "3.7.6"
  }
 },
 "nbformat": 4,
 "nbformat_minor": 4
}
