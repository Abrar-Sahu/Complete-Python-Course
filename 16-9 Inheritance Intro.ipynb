{
 "cells": [
  {
   "cell_type": "code",
   "execution_count": 8,
   "metadata": {},
   "outputs": [
    {
     "name": "stdout",
     "output_type": "stream",
     "text": [
      "5000\n",
      "oneplus\n",
      "Nokia 1100 and price is 5000\n",
      "oneplus 5 and price is 30000\n"
     ]
    }
   ],
   "source": [
    "class Phone():\n",
    "    def __init__(self,brand,model_name,price):\n",
    "        # instance variable\n",
    "        self.brand = brand\n",
    "        self.model_name = model_name\n",
    "        self._price = max(price,0)\n",
    "    def complete_specification(self):\n",
    "         print(f\"{self.brand} {self.model_name} and price is {self._price}\")\n",
    "    def make_a_call(self,phone_number):\n",
    "        print(f\"Calling {phone_number} .....\")\n",
    "class smartphone(Phone):\n",
    "    def __init__(self,brand,model_name,price,ram,internal_memory,rare_camera):\n",
    "        super().__init__(brand,model_name,price)\n",
    "        self.ram = ram\n",
    "        self.internal_memory = internal_memory\n",
    "        self.rare_camera = rare_camera\n",
    "        \n",
    "smartphone = smartphone('oneplus','5',30000,'6GB','64GB','20MP')\n",
    "phone1 = Phone('Nokia','1100',5000)\n",
    "print(phone1._price)\n",
    "print(smartphone.brand)\n",
    "phone1.complete_specification()\n",
    "smartphone.complete_specification()"
   ]
  },
  {
   "cell_type": "code",
   "execution_count": null,
   "metadata": {},
   "outputs": [],
   "source": []
  }
 ],
 "metadata": {
  "kernelspec": {
   "display_name": "Python 3",
   "language": "python",
   "name": "python3"
  },
  "language_info": {
   "codemirror_mode": {
    "name": "ipython",
    "version": 3
   },
   "file_extension": ".py",
   "mimetype": "text/x-python",
   "name": "python",
   "nbconvert_exporter": "python",
   "pygments_lexer": "ipython3",
   "version": "3.7.6"
  }
 },
 "nbformat": 4,
 "nbformat_minor": 4
}
