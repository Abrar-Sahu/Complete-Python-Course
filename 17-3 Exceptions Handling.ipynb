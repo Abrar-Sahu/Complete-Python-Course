{
 "cells": [
  {
   "cell_type": "code",
   "execution_count": 11,
   "metadata": {},
   "outputs": [
    {
     "name": "stdout",
     "output_type": "stream",
     "text": [
      "Enter your age: qwe\n",
      "Invalid Syntax\n",
      "You can't play this game\n"
     ]
    }
   ],
   "source": [
    "try:\n",
    "    age = int(input(\"Enter your age: \"))\n",
    "except:\n",
    "    print('Invalid Syntax')\n",
    "    \n",
    "    \n",
    "if age < 18:\n",
    "    print('You can\\'t play this game')\n",
    "else:\n",
    "    print('You can play this game')"
   ]
  },
  {
   "cell_type": "code",
   "execution_count": 13,
   "metadata": {},
   "outputs": [
    {
     "name": "stdout",
     "output_type": "stream",
     "text": [
      "Enter your age: @#\n",
      "Invalid Syntax\n",
      "Enter your age: 23!#$\n",
      "Invalid Syntax\n",
      "Enter your age: ascx\n",
      "Invalid Syntax\n",
      "Enter your age: 23\n",
      "You can play this game\n"
     ]
    }
   ],
   "source": [
    "while True:\n",
    "    try:\n",
    "        age = int(input(\"Enter your age: \"))\n",
    "        break\n",
    "    except ValueError:\n",
    "        print('Invalid Syntax')\n",
    "    except:\n",
    "        print(\"Unexpected Error\")\n",
    "    \n",
    "    \n",
    "if age < 18:\n",
    "    print('You can\\'t play this game')\n",
    "else:\n",
    "    print('You can play this game')"
   ]
  },
  {
   "cell_type": "code",
   "execution_count": null,
   "metadata": {},
   "outputs": [],
   "source": []
  }
 ],
 "metadata": {
  "kernelspec": {
   "display_name": "Python 3",
   "language": "python",
   "name": "python3"
  },
  "language_info": {
   "codemirror_mode": {
    "name": "ipython",
    "version": 3
   },
   "file_extension": ".py",
   "mimetype": "text/x-python",
   "name": "python",
   "nbconvert_exporter": "python",
   "pygments_lexer": "ipython3",
   "version": "3.7.6"
  }
 },
 "nbformat": 4,
 "nbformat_minor": 4
}
