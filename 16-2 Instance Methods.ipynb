{
 "cells": [
  {
   "cell_type": "code",
   "execution_count": 1,
   "metadata": {},
   "outputs": [
    {
     "name": "stdout",
     "output_type": "stream",
     "text": [
      "abrar\n",
      "abrar sahu 22\n",
      "True\n"
     ]
    }
   ],
   "source": [
    "class Person:\n",
    "    def __init__(self,first_name,last_name,age):\n",
    "        self.first_name = first_name\n",
    "        self.last_name = last_name\n",
    "        self.age = age\n",
    "    def full_name(self):\n",
    "        return f'{self.first_name} {self.last_name} {self.age}'\n",
    "    def is_above_18(self):\n",
    "        return self.age > 18\n",
    "p1 = Person('abrar','sahu',22)\n",
    "p2 = Person('haseeb','anwar',10)\n",
    "print(p1.first_name)\n",
    "print(p1.full_name())\n",
    "print(p1.is_above_18())"
   ]
  },
  {
   "cell_type": "code",
   "execution_count": null,
   "metadata": {},
   "outputs": [],
   "source": []
  },
  {
   "cell_type": "code",
   "execution_count": 6,
   "metadata": {},
   "outputs": [
    {
     "name": "stdout",
     "output_type": "stream",
     "text": [
      "DELL\n",
      "DELL 2015\n",
      "2018\n",
      "20000.0\n"
     ]
    }
   ],
   "source": [
    "class Laptop:\n",
    "    # function\n",
    "    def __init__(self,name,model,price):\n",
    "        # instance variables\n",
    "        self.brand_name = name\n",
    "        self.model = model\n",
    "        self.price = price\n",
    "        self.loptop_name = name + ' ' + model\n",
    "    def apply_discount(self,num):\n",
    "        off_price = (num/100)*self.price\n",
    "        return self.price - off_price\n",
    "# objects\n",
    "p1 = Laptop('DELL','2015',30000)\n",
    "p2 = Laptop('LENOVO','2018',25000)\n",
    "print(p1.brand_name)\n",
    "print(p1.loptop_name)\n",
    "print(p2.model)\n",
    "print(p2.apply_discount(20))"
   ]
  },
  {
   "cell_type": "code",
   "execution_count": null,
   "metadata": {},
   "outputs": [],
   "source": []
  }
 ],
 "metadata": {
  "kernelspec": {
   "display_name": "Python 3",
   "language": "python",
   "name": "python3"
  },
  "language_info": {
   "codemirror_mode": {
    "name": "ipython",
    "version": 3
   },
   "file_extension": ".py",
   "mimetype": "text/x-python",
   "name": "python",
   "nbconvert_exporter": "python",
   "pygments_lexer": "ipython3",
   "version": "3.7.6"
  }
 },
 "nbformat": 4,
 "nbformat_minor": 4
}
