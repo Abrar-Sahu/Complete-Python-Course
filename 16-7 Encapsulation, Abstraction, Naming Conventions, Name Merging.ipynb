{
 "cells": [
  {
   "cell_type": "code",
   "execution_count": 2,
   "metadata": {},
   "outputs": [],
   "source": [
    "# In this video we will talk about\n",
    "# Encapsulation,\n",
    "# Abstraction,\n",
    "# Naming Conventions and\n",
    "# Name Mangling"
   ]
  },
  {
   "cell_type": "code",
   "execution_count": null,
   "metadata": {},
   "outputs": [],
   "source": []
  },
  {
   "cell_type": "code",
   "execution_count": 5,
   "metadata": {},
   "outputs": [
    {
     "name": "stdout",
     "output_type": "stream",
     "text": [
      "1000\n",
      "{'brand': 'Nokia', 'model_name': '1100', '_price': 1000}\n"
     ]
    }
   ],
   "source": [
    "class Phone():\n",
    "    def __init__(self,brand,model_name,_price):\n",
    "        # instance variable\n",
    "        self.brand = brand\n",
    "        self.model_name = model_name\n",
    "        self._price = _price\n",
    "    def make_a_call(self,phone_number):\n",
    "        print(f\"Calling {phone_number} .....\")\n",
    "    def full_name(self):\n",
    "        return f'{self.brand} {self.model_name}'\n",
    "phone1 = Phone('Nokia','1100',1000)\n",
    "print(phone1._price)\n",
    "print(phone1.__dict__)"
   ]
  },
  {
   "cell_type": "code",
   "execution_count": 14,
   "metadata": {},
   "outputs": [],
   "source": [
    "# __name   convention of private name\n",
    "# __name__  dunder/magic methods"
   ]
  },
  {
   "cell_type": "code",
   "execution_count": 7,
   "metadata": {},
   "outputs": [
    {
     "name": "stdout",
     "output_type": "stream",
     "text": [
      "1000\n",
      "{'brand': 'Nokia', 'model_name': '1100', '_price': 1000}\n"
     ]
    }
   ],
   "source": [
    "phone1 = Phone('Nokia','1100',1000)\n",
    "print(phone1._price)\n",
    "print(phone1.__dict__)"
   ]
  },
  {
   "cell_type": "code",
   "execution_count": 8,
   "metadata": {},
   "outputs": [
    {
     "name": "stdout",
     "output_type": "stream",
     "text": [
      "{'brand': 'Nokia', 'model_name': '1100', '_price': 1000}\n"
     ]
    }
   ],
   "source": [
    "print(phone1.__dict__)"
   ]
  },
  {
   "cell_type": "code",
   "execution_count": 10,
   "metadata": {},
   "outputs": [
    {
     "name": "stdout",
     "output_type": "stream",
     "text": [
      "-1000\n"
     ]
    }
   ],
   "source": [
    "phone1._Phone__price = -1000\n",
    "print(phone1._Phone__price)"
   ]
  },
  {
   "cell_type": "code",
   "execution_count": null,
   "metadata": {},
   "outputs": [],
   "source": []
  }
 ],
 "metadata": {
  "kernelspec": {
   "display_name": "Python 3",
   "language": "python",
   "name": "python3"
  },
  "language_info": {
   "codemirror_mode": {
    "name": "ipython",
    "version": 3
   },
   "file_extension": ".py",
   "mimetype": "text/x-python",
   "name": "python",
   "nbconvert_exporter": "python",
   "pygments_lexer": "ipython3",
   "version": "3.7.6"
  }
 },
 "nbformat": 4,
 "nbformat_minor": 4
}
