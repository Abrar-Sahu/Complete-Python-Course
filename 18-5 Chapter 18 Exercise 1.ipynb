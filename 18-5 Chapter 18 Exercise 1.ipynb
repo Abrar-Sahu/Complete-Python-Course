{
 "cells": [
  {
   "cell_type": "code",
   "execution_count": 29,
   "metadata": {},
   "outputs": [
    {
     "name": "stdout",
     "output_type": "stream",
     "text": [
      "42\n"
     ]
    }
   ],
   "source": [
    "with open('Data Files/Salary.txt','w') as f:\n",
    "    write = 'Harshit,100\\nMohit,50\\nAditya,200\\nNitish,500'\n",
    "    print(f.write(write))"
   ]
  },
  {
   "cell_type": "code",
   "execution_count": 30,
   "metadata": {},
   "outputs": [
    {
     "name": "stdout",
     "output_type": "stream",
     "text": [
      "Harshit,100\n",
      "Mohit,50\n",
      "Aditya,200\n",
      "Nitish,500\n"
     ]
    }
   ],
   "source": [
    "with open('Data Files/Salary.txt','r') as f:\n",
    "    write = 'Harshit,100\\nMohit,50\\nAditya,200\\nNitish,500'\n",
    "    print(f.read())"
   ]
  },
  {
   "cell_type": "code",
   "execution_count": 36,
   "metadata": {},
   "outputs": [],
   "source": [
    "with open('Data Files/Salary.txt','r') as f:\n",
    "    with open('Data Files/Salary1.txt','a') as f1:\n",
    "        for line in f.readlines():\n",
    "            name,salary = line.split(',')\n",
    "            f1.write(f'{name}\\'s Salary is {salary}')"
   ]
  },
  {
   "cell_type": "code",
   "execution_count": 37,
   "metadata": {},
   "outputs": [
    {
     "name": "stdout",
     "output_type": "stream",
     "text": [
      "Harshit's Salary is 100\n",
      "Mohit's Salary is 50\n",
      "Aditya's Salary is 200\n",
      "Nitish's Salary is 500\n"
     ]
    }
   ],
   "source": [
    "with open('Data Files/Salary1.txt','r') as f1:\n",
    "    print(f1.read())"
   ]
  },
  {
   "cell_type": "code",
   "execution_count": null,
   "metadata": {},
   "outputs": [],
   "source": []
  }
 ],
 "metadata": {
  "kernelspec": {
   "display_name": "Python 3",
   "language": "python",
   "name": "python3"
  },
  "language_info": {
   "codemirror_mode": {
    "name": "ipython",
    "version": 3
   },
   "file_extension": ".py",
   "mimetype": "text/x-python",
   "name": "python",
   "nbconvert_exporter": "python",
   "pygments_lexer": "ipython3",
   "version": "3.7.6"
  }
 },
 "nbformat": 4,
 "nbformat_minor": 4
}
