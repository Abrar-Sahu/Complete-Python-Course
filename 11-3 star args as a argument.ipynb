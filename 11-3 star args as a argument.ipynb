{
 "cells": [
  {
   "cell_type": "code",
   "execution_count": 2,
   "metadata": {},
   "outputs": [
    {
     "name": "stdout",
     "output_type": "stream",
     "text": [
      "(2, 3, 4)\n",
      "24\n"
     ]
    }
   ],
   "source": [
    "def multiply_num (*args):\n",
    "    multiply = 1\n",
    "    print(args)\n",
    "    for num in args:\n",
    "        multiply *= num\n",
    "    return multiply\n",
    "print(multiply_num(2,3,4))"
   ]
  },
  {
   "cell_type": "code",
   "execution_count": 4,
   "metadata": {},
   "outputs": [
    {
     "name": "stdout",
     "output_type": "stream",
     "text": [
      "([2, 3, 4],)\n",
      "[2, 3, 4]\n"
     ]
    }
   ],
   "source": [
    "def multiply_num (*args):\n",
    "    multiply = 1\n",
    "    print(args)\n",
    "    for num in args:\n",
    "        multiply *= num\n",
    "    return multiply\n",
    "l = [2,3,4]\n",
    "print(multiply_num(l))"
   ]
  },
  {
   "cell_type": "code",
   "execution_count": 9,
   "metadata": {},
   "outputs": [
    {
     "name": "stdout",
     "output_type": "stream",
     "text": [
      "(2, 3, 4)\n",
      "24\n"
     ]
    }
   ],
   "source": [
    "def multiply_num (*args):\n",
    "    multiply = 1\n",
    "    print(args)\n",
    "    for num in args:\n",
    "        multiply *= num\n",
    "    return multiply\n",
    "l = [2,3,4]\n",
    "print(multiply_num(*l))   # list is unpack"
   ]
  },
  {
   "cell_type": "code",
   "execution_count": 8,
   "metadata": {},
   "outputs": [
    {
     "name": "stdout",
     "output_type": "stream",
     "text": [
      "(2, 3, 4)\n",
      "24\n"
     ]
    }
   ],
   "source": [
    "def multiply_num (*args):\n",
    "    multiply = 1\n",
    "    print(args)\n",
    "    for num in args:\n",
    "        multiply *= num\n",
    "    return multiply\n",
    "t = (2,3,4)\n",
    "print(multiply_num(*t))     #tuple is unpack"
   ]
  },
  {
   "cell_type": "code",
   "execution_count": null,
   "metadata": {},
   "outputs": [],
   "source": []
  }
 ],
 "metadata": {
  "kernelspec": {
   "display_name": "Python 3",
   "language": "python",
   "name": "python3"
  },
  "language_info": {
   "codemirror_mode": {
    "name": "ipython",
    "version": 3
   },
   "file_extension": ".py",
   "mimetype": "text/x-python",
   "name": "python",
   "nbconvert_exporter": "python",
   "pygments_lexer": "ipython3",
   "version": "3.7.6"
  }
 },
 "nbformat": 4,
 "nbformat_minor": 4
}
