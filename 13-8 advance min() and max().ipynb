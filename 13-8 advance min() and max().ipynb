{
 "cells": [
  {
   "cell_type": "code",
   "execution_count": 1,
   "metadata": {},
   "outputs": [
    {
     "name": "stdout",
     "output_type": "stream",
     "text": [
      "Abrar\n"
     ]
    }
   ],
   "source": [
    "def func(item):\n",
    "    return len(item)\n",
    "names = ['Abrar','xyz','ab']\n",
    "print(max(names,key=func))"
   ]
  },
  {
   "cell_type": "code",
   "execution_count": 2,
   "metadata": {},
   "outputs": [
    {
     "name": "stdout",
     "output_type": "stream",
     "text": [
      "ab\n"
     ]
    }
   ],
   "source": [
    "print(min(names,key=func))"
   ]
  },
  {
   "cell_type": "code",
   "execution_count": 6,
   "metadata": {},
   "outputs": [
    {
     "name": "stdout",
     "output_type": "stream",
     "text": [
      "ab\n"
     ]
    }
   ],
   "source": [
    "names = ['Abrar','xyz','ab']\n",
    "print(min(names,key = lambda item:len(item)))"
   ]
  },
  {
   "cell_type": "code",
   "execution_count": 9,
   "metadata": {},
   "outputs": [
    {
     "name": "stdout",
     "output_type": "stream",
     "text": [
      "{'name': 'haseb', 'score': 98, 'age': 12}\n"
     ]
    }
   ],
   "source": [
    "student1 ={\n",
    "    'abrar':{'score':90,'age':22},\n",
    "    'usama':{'score':95,'age':15},\n",
    "    'ali':{'score':80,'age':20}\n",
    "}\n",
    "\n",
    "student2 = [\n",
    "    {'name':'rajab','score':85,'age':19},\n",
    "    {'name':'haseb','score':98,'age':12},\n",
    "    {'name':'mian','score':70,'age':25}\n",
    "]\n",
    "print(max(student2,key=lambda item:item.get('score')))"
   ]
  },
  {
   "cell_type": "code",
   "execution_count": 10,
   "metadata": {},
   "outputs": [
    {
     "name": "stdout",
     "output_type": "stream",
     "text": [
      "{'name': 'mian', 'score': 70, 'age': 25}\n"
     ]
    }
   ],
   "source": [
    "print(min(student2,key=lambda item:item.get('score')))"
   ]
  },
  {
   "cell_type": "code",
   "execution_count": 13,
   "metadata": {},
   "outputs": [
    {
     "name": "stdout",
     "output_type": "stream",
     "text": [
      "abrar\n"
     ]
    }
   ],
   "source": [
    "print(max(student1,key=lambda item: student1[item]['age']))"
   ]
  },
  {
   "cell_type": "code",
   "execution_count": 14,
   "metadata": {},
   "outputs": [
    {
     "name": "stdout",
     "output_type": "stream",
     "text": [
      "ali\n"
     ]
    }
   ],
   "source": [
    "print(min(student1,key=lambda item: student1[item]['score']))"
   ]
  },
  {
   "cell_type": "code",
   "execution_count": null,
   "metadata": {},
   "outputs": [],
   "source": []
  }
 ],
 "metadata": {
  "kernelspec": {
   "display_name": "Python 3",
   "language": "python",
   "name": "python3"
  },
  "language_info": {
   "codemirror_mode": {
    "name": "ipython",
    "version": 3
   },
   "file_extension": ".py",
   "mimetype": "text/x-python",
   "name": "python",
   "nbconvert_exporter": "python",
   "pygments_lexer": "ipython3",
   "version": "3.7.6"
  }
 },
 "nbformat": 4,
 "nbformat_minor": 4
}
