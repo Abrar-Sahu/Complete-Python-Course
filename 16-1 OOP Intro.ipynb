{
 "cells": [
  {
   "cell_type": "code",
   "execution_count": 3,
   "metadata": {},
   "outputs": [
    {
     "name": "stdout",
     "output_type": "stream",
     "text": [
      "Abrar\n",
      "Najeeb\n"
     ]
    }
   ],
   "source": [
    "class Person:\n",
    "    def __init__(self,first_name,last_name,age):\n",
    "        self.first_name = first_name\n",
    "        self.last_name = last_name\n",
    "        self.age = age\n",
    "p1=Person('Abrar','Sahu',22)\n",
    "p2=Person('Najeeb','Sahu',27)\n",
    "print(p1.first_name)\n",
    "print(p2.first_name)"
   ]
  },
  {
   "cell_type": "code",
   "execution_count": null,
   "metadata": {},
   "outputs": [],
   "source": []
  },
  {
   "cell_type": "code",
   "execution_count": 12,
   "metadata": {},
   "outputs": [
    {
     "name": "stdout",
     "output_type": "stream",
     "text": [
      "DELL\n",
      "DELL 2015\n",
      "2018\n"
     ]
    }
   ],
   "source": [
    "class Laptop:\n",
    "    # function\n",
    "    def __init__(self,name,model,price):\n",
    "        # instance variables\n",
    "        self.brand_name = name\n",
    "        self.model = model\n",
    "        self.price = price\n",
    "        self.loptop_name = name + ' ' + model\n",
    "# objects\n",
    "p1 = Laptop('DELL','2015',30000)\n",
    "p2 = Laptop('LENOVO','2018',25000)\n",
    "print(p1.brand_name)\n",
    "print(p1.loptop_name)\n",
    "print(p2.model)"
   ]
  },
  {
   "cell_type": "code",
   "execution_count": 9,
   "metadata": {},
   "outputs": [
    {
     "name": "stdout",
     "output_type": "stream",
     "text": [
      "DELL 2015 30000\n"
     ]
    }
   ],
   "source": [
    "print(p1.brand_name,p1.model,p1.price)"
   ]
  },
  {
   "cell_type": "code",
   "execution_count": null,
   "metadata": {},
   "outputs": [],
   "source": []
  }
 ],
 "metadata": {
  "kernelspec": {
   "display_name": "Python 3",
   "language": "python",
   "name": "python3"
  },
  "language_info": {
   "codemirror_mode": {
    "name": "ipython",
    "version": 3
   },
   "file_extension": ".py",
   "mimetype": "text/x-python",
   "name": "python",
   "nbconvert_exporter": "python",
   "pygments_lexer": "ipython3",
   "version": "3.7.6"
  }
 },
 "nbformat": 4,
 "nbformat_minor": 4
}
