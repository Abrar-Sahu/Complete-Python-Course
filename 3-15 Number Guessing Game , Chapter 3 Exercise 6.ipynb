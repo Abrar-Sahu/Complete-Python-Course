{
 "cells": [
  {
   "cell_type": "code",
   "execution_count": 10,
   "metadata": {},
   "outputs": [
    {
     "name": "stdout",
     "output_type": "stream",
     "text": [
      "10\n",
      "Enter a number: 20\n",
      "To high\n",
      "Try Again: 15\n",
      "To high\n",
      "Try Again: 5\n",
      "To Low\n",
      "Try Again: 9\n",
      "To Low\n",
      "Try Again: 7\n",
      "To Low\n",
      "Try Again: 8\n",
      "To Low\n",
      "Try Again: 11\n",
      "To high\n",
      "Try Again: 10\n",
      "You Win!!, And you guessed this number in 8 times \n"
     ]
    }
   ],
   "source": [
    "import random\n",
    "winning_number = random.randint(1,100)\n",
    "print(winning_number)\n",
    "guess = 1\n",
    "number = int(input(\"Enter a number: \"))\n",
    "while True:\n",
    "    if number == winning_number:\n",
    "        print(f\"You Win!!, And you guessed this number in {guess} times \")\n",
    "        break\n",
    "    else:\n",
    "        if number < winning_number:\n",
    "            print(\"To Low\")\n",
    "        else:\n",
    "            print(\"To high\")\n",
    "        guess += 1\n",
    "        number = int(input(\"Try Again: \"))\n"
   ]
  },
  {
   "cell_type": "code",
   "execution_count": null,
   "metadata": {},
   "outputs": [],
   "source": [
    "# DRY: Don't Repeat Yourself"
   ]
  },
  {
   "cell_type": "code",
   "execution_count": 4,
   "metadata": {},
   "outputs": [
    {
     "name": "stdout",
     "output_type": "stream",
     "text": [
      "Enter a number: 23\n",
      "To high\n",
      "Try Again: 15\n",
      "To high\n",
      "Try Again: 10\n",
      "To high\n",
      "Try Again: 5\n",
      "To high\n",
      "Try Again: 4\n",
      "You Win!!, And you guessed this number in 5 times \n"
     ]
    }
   ],
   "source": [
    "import random\n",
    "winning_number = random.randint(1,100)\n",
    "guess = 1\n",
    "number = int(input(\"Enter a number: \"))\n",
    "game_over = False\n",
    "while not game_over:\n",
    "    if number == winning_number:\n",
    "        print(f\"You Win!!, And you guessed this number in {guess} times \")\n",
    "        game_over = True\n",
    "    else:\n",
    "        if number < winning_number:\n",
    "            print(\"To Low\")\n",
    "        else:\n",
    "            print(\"To high\")\n",
    "        guess += 1\n",
    "        number = int(input(\"Try Again: \"))"
   ]
  },
  {
   "cell_type": "code",
   "execution_count": null,
   "metadata": {},
   "outputs": [],
   "source": []
  }
 ],
 "metadata": {
  "kernelspec": {
   "display_name": "Python 3",
   "language": "python",
   "name": "python3"
  },
  "language_info": {
   "codemirror_mode": {
    "name": "ipython",
    "version": 3
   },
   "file_extension": ".py",
   "mimetype": "text/x-python",
   "name": "python",
   "nbconvert_exporter": "python",
   "pygments_lexer": "ipython3",
   "version": "3.7.6"
  }
 },
 "nbformat": 4,
 "nbformat_minor": 4
}
