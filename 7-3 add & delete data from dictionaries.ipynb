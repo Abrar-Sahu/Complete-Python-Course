{
 "cells": [
  {
   "cell_type": "code",
   "execution_count": 1,
   "metadata": {},
   "outputs": [
    {
     "name": "stdout",
     "output_type": "stream",
     "text": [
      "{'name': 'Abrar', 'age': 22, 'gender': 'Male', 'fav_fruit': ['Mango', 'Banana', 'Orange']}\n"
     ]
    }
   ],
   "source": [
    "user_info = {\n",
    "    \"name\":\"Abrar\",\n",
    "    \"age\":22,\n",
    "    \"gender\":\"Male\",\n",
    "    \"fav_fruit\":[\"Mango\",\"Banana\",\"Orange\"]\n",
    "}\n",
    "print(user_info)"
   ]
  },
  {
   "cell_type": "code",
   "execution_count": 2,
   "metadata": {},
   "outputs": [
    {
     "name": "stdout",
     "output_type": "stream",
     "text": [
      "{'name': 'Abrar', 'age': 22, 'gender': 'Male', 'fav_fruit': ['Mango', 'Banana', 'Orange'], 'fav_color': ['Green', 'Blue', 'Orange']}\n"
     ]
    }
   ],
   "source": [
    "# how to add data\n",
    "user_info['fav_color']=[\"Green\",\"Blue\",\"Orange\"]\n",
    "print(user_info)"
   ]
  },
  {
   "cell_type": "code",
   "execution_count": 4,
   "metadata": {},
   "outputs": [
    {
     "name": "stdout",
     "output_type": "stream",
     "text": [
      "popped item is ['Green', 'Blue', 'Orange']\n",
      "{'name': 'Abrar', 'age': 22, 'gender': 'Male', 'fav_fruit': ['Mango', 'Banana', 'Orange']}\n"
     ]
    }
   ],
   "source": [
    "# pop method\n",
    "popped_item = user_info.pop('fav_color')\n",
    "print(f'popped item is {popped_item}')\n",
    "print(user_info)"
   ]
  },
  {
   "cell_type": "code",
   "execution_count": null,
   "metadata": {},
   "outputs": [],
   "source": []
  }
 ],
 "metadata": {
  "kernelspec": {
   "display_name": "Python 3",
   "language": "python",
   "name": "python3"
  },
  "language_info": {
   "codemirror_mode": {
    "name": "ipython",
    "version": 3
   },
   "file_extension": ".py",
   "mimetype": "text/x-python",
   "name": "python",
   "nbconvert_exporter": "python",
   "pygments_lexer": "ipython3",
   "version": "3.7.6"
  }
 },
 "nbformat": 4,
 "nbformat_minor": 4
}
