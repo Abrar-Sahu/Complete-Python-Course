{
 "cells": [
  {
   "cell_type": "code",
   "execution_count": 3,
   "metadata": {},
   "outputs": [
    {
     "name": "stdout",
     "output_type": "stream",
     "text": [
      "[1, 4, 9, 16]\n"
     ]
    }
   ],
   "source": [
    "square = []\n",
    "number = [1,2,3,4]\n",
    "for i in number:\n",
    "    square.append(i**2)\n",
    "print(square)"
   ]
  },
  {
   "cell_type": "code",
   "execution_count": null,
   "metadata": {},
   "outputs": [],
   "source": []
  },
  {
   "cell_type": "code",
   "execution_count": 4,
   "metadata": {},
   "outputs": [
    {
     "name": "stdout",
     "output_type": "stream",
     "text": [
      "[1, 4, 9, 16, 25, 36, 49, 64, 81, 100]\n"
     ]
    }
   ],
   "source": [
    "def square_list(l):\n",
    "    square = []\n",
    "    for i in l:\n",
    "        square.append(i**2)\n",
    "    return square\n",
    "numbers = list(range(1,11))\n",
    "print(square_list(numbers))"
   ]
  },
  {
   "cell_type": "code",
   "execution_count": null,
   "metadata": {},
   "outputs": [],
   "source": []
  },
  {
   "cell_type": "code",
   "execution_count": 16,
   "metadata": {},
   "outputs": [
    {
     "name": "stdout",
     "output_type": "stream",
     "text": [
      "[5, 4, 3, 2, 1]\n"
     ]
    }
   ],
   "source": [
    "def number(l):\n",
    "    list2 = []\n",
    "    for i in range(len(l)):\n",
    "        list1 = l.pop()\n",
    "        list2.append(list1)\n",
    "    return list2\n",
    "list3 = [1,2,3,4,5]\n",
    "print(number(list3))"
   ]
  },
  {
   "cell_type": "code",
   "execution_count": null,
   "metadata": {},
   "outputs": [],
   "source": []
  },
  {
   "cell_type": "code",
   "execution_count": 22,
   "metadata": {},
   "outputs": [
    {
     "name": "stdout",
     "output_type": "stream",
     "text": [
      "['cba', 'vut', 'zyx']\n"
     ]
    }
   ],
   "source": [
    "def word(l):\n",
    "    reverse_list = []\n",
    "    for i in l:\n",
    "        reverse_list.append(i[::-1])\n",
    "    return reverse_list\n",
    "list_string = [\"abc\",\"tuv\",\"xyz\"]\n",
    "print(word(list_string))"
   ]
  },
  {
   "cell_type": "code",
   "execution_count": null,
   "metadata": {},
   "outputs": [],
   "source": []
  },
  {
   "cell_type": "code",
   "execution_count": 31,
   "metadata": {},
   "outputs": [
    {
     "name": "stdout",
     "output_type": "stream",
     "text": [
      "[[2, 4, 6], [1, 3, 5, 7]]\n"
     ]
    }
   ],
   "source": [
    "def filter_num(l):\n",
    "    even = []\n",
    "    odd = []\n",
    "    combine = [even , odd]\n",
    "    for i in l:\n",
    "        if i%2==0:\n",
    "            even.append(i)\n",
    "        else:\n",
    "            odd.append(i)\n",
    "    return combine\n",
    "natural = [1,2,3,4,5,6,7]\n",
    "print(filter_num(natural))"
   ]
  },
  {
   "cell_type": "code",
   "execution_count": null,
   "metadata": {},
   "outputs": [],
   "source": []
  },
  {
   "cell_type": "code",
   "execution_count": 37,
   "metadata": {},
   "outputs": [
    {
     "name": "stdout",
     "output_type": "stream",
     "text": [
      "[1, 2, 7]\n"
     ]
    }
   ],
   "source": [
    "def double(x,y):\n",
    "    z = []\n",
    "    for i in x:\n",
    "        if i in y:\n",
    "           z.append(i) \n",
    "    return z\n",
    "x = [1,2,3,4,5,7]\n",
    "y = [7,8,9,1,2]\n",
    "print(double(x,y))"
   ]
  },
  {
   "cell_type": "code",
   "execution_count": null,
   "metadata": {},
   "outputs": [],
   "source": []
  }
 ],
 "metadata": {
  "kernelspec": {
   "display_name": "Python 3",
   "language": "python",
   "name": "python3"
  },
  "language_info": {
   "codemirror_mode": {
    "name": "ipython",
    "version": 3
   },
   "file_extension": ".py",
   "mimetype": "text/x-python",
   "name": "python",
   "nbconvert_exporter": "python",
   "pygments_lexer": "ipython3",
   "version": "3.7.6"
  }
 },
 "nbformat": 4,
 "nbformat_minor": 4
}
