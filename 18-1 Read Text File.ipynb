{
 "cells": [
  {
   "cell_type": "code",
   "execution_count": 1,
   "metadata": {},
   "outputs": [],
   "source": [
    "# read file\n",
    "# open function\n",
    "# read method\n",
    "# seek method\n",
    "# tell method\n",
    "# readline method\n",
    "# readlines method\n",
    "# close method"
   ]
  },
  {
   "cell_type": "code",
   "execution_count": 16,
   "metadata": {},
   "outputs": [
    {
     "name": "stdout",
     "output_type": "stream",
     "text": [
      "Hello World\n",
      "How are You\n",
      "What's about COVID19\n"
     ]
    }
   ],
   "source": [
    "with open('Data Files/dataread.txt','r') as file:\n",
    "   content = file.read()\n",
    "print(content)"
   ]
  },
  {
   "cell_type": "code",
   "execution_count": 1,
   "metadata": {},
   "outputs": [
    {
     "name": "stdout",
     "output_type": "stream",
     "text": [
      "Hello World\n",
      "How are You\n",
      "What's about COVID19\n"
     ]
    }
   ],
   "source": [
    "w = open('Data Files/dataread.txt','r')\n",
    "content = w.read()\n",
    "print(content)"
   ]
  },
  {
   "cell_type": "code",
   "execution_count": 3,
   "metadata": {},
   "outputs": [
    {
     "name": "stdout",
     "output_type": "stream",
     "text": [
      "50\n"
     ]
    }
   ],
   "source": [
    "w = open('Data Files/dataread.txt','w')\n",
    "content = w.write(\"Abrar Sahu, This is a method to check write method\")\n",
    "print(content)"
   ]
  },
  {
   "cell_type": "code",
   "execution_count": 10,
   "metadata": {},
   "outputs": [
    {
     "name": "stdout",
     "output_type": "stream",
     "text": [
      "0\n",
      "Abrar Sahu, This is a method to check write method\n",
      "50\n"
     ]
    }
   ],
   "source": [
    "w = open('Data Files/dataread.txt','r')\n",
    "print(w.tell())\n",
    "content = w.read()\n",
    "print(content)\n",
    "print(w.tell())\n",
    "w.close()"
   ]
  },
  {
   "cell_type": "code",
   "execution_count": 15,
   "metadata": {},
   "outputs": [
    {
     "name": "stdout",
     "output_type": "stream",
     "text": [
      "0\n",
      "1-What is Operating System?\n",
      "    An operating system acts as an intermediary between the user of a computer and the computer hardware. The purpose of an operating system is to provide an environment in which a user can execute programs in a convenient and efficient manner.\n",
      "      An operating system is a software that manages the computer hardware. The hardware must provide appropriate mechanisms to ensure the correct operation of the computer system and to prevent user programs from interfering with the proper operation of the system.\n",
      "      A more common definition, and the one that we usually follow, is that the operating system is the one program running at all times on the computer usually called the kernel.\n",
      "719\n"
     ]
    }
   ],
   "source": [
    "w = open('Data Files/dataread.txt','r')\n",
    "print(w.tell())\n",
    "content = w.read()\n",
    "print(content)\n",
    "print(w.tell())\n",
    "w.close()"
   ]
  },
  {
   "cell_type": "code",
   "execution_count": 22,
   "metadata": {},
   "outputs": [
    {
     "name": "stdout",
     "output_type": "stream",
     "text": [
      "Cursor Position: 0\n",
      "1-What is Operating System?\n",
      "    An operating system acts as an intermediary between the user of a computer and the computer hardware. The purpose of an operating system is to provide an environment in which a user can execute programs in a convenient and efficient manner.\n",
      "      An operating system is a software that manages the computer hardware. The hardware must provide appropriate mechanisms to ensure the correct operation of the computer system and to prevent user programs from interfering with the proper operation of the system.\n",
      "      A more common definition, and the one that we usually follow, is that the operating system is the one program running at all times on the computer usually called the kernel.\n",
      "\n",
      "Cursor Position: 719\n",
      "1-What is Operating System?\n",
      "    An operating system acts as an intermediary between the user of a computer and the computer hardware. The purpose of an operating system is to provide an environment in which a user can execute programs in a convenient and efficient manner.\n",
      "      An operating system is a software that manages the computer hardware. The hardware must provide appropriate mechanisms to ensure the correct operation of the computer system and to prevent user programs from interfering with the proper operation of the system.\n",
      "      A more common definition, and the one that we usually follow, is that the operating system is the one program running at all times on the computer usually called the kernel.\n",
      "Cursor Position: 0\n"
     ]
    }
   ],
   "source": [
    "w = open('Data Files/dataread.txt','r')\n",
    "print(f'Cursor Position: {w.tell()}')\n",
    "content = w.read()\n",
    "print(content)\n",
    "print(f'\\nCursor Position: {w.tell()}')\n",
    "w.seek(0)\n",
    "print(content)\n",
    "print(f'Cursor Position: {w.tell()}')\n",
    "w.close()"
   ]
  },
  {
   "cell_type": "code",
   "execution_count": 23,
   "metadata": {},
   "outputs": [
    {
     "name": "stdout",
     "output_type": "stream",
     "text": [
      "0\n",
      "1-What is Operating System?\n",
      "\n",
      "28\n"
     ]
    }
   ],
   "source": [
    "w = open('Data Files/dataread.txt','r')\n",
    "print(w.tell())\n",
    "content = w.readline()\n",
    "print(content)\n",
    "print(w.tell())\n",
    "w.close()"
   ]
  },
  {
   "cell_type": "code",
   "execution_count": 29,
   "metadata": {},
   "outputs": [
    {
     "name": "stdout",
     "output_type": "stream",
     "text": [
      "0\n",
      "['1-What is Operating System?\\n', '    An operating system acts as an intermediary between the user of a computer and the computer hardware. The purpose of an operating system is to provide an environment in which a user can execute programs in a convenient and efficient manner.\\n', '      An operating system is a software that manages the computer hardware. The hardware must provide appropriate mechanisms to ensure the correct operation of the computer system and to prevent user programs from interfering with the proper operation of the system.\\n', '      A more common definition, and the one that we usually follow, is that the operating system is the one program running at all times on the computer usually called the kernel.']\n",
      "719\n",
      "4\n"
     ]
    }
   ],
   "source": [
    "w = open('Data Files/dataread.txt','r')\n",
    "print(w.tell())\n",
    "content = w.readlines()\n",
    "print(content)\n",
    "print(w.tell())\n",
    "w.close()\n",
    "print(len(content))"
   ]
  },
  {
   "cell_type": "code",
   "execution_count": 37,
   "metadata": {},
   "outputs": [
    {
     "name": "stdout",
     "output_type": "stream",
     "text": [
      "1-What is Operating System?\n",
      "\n",
      "    An operating system acts as an intermediary between the user of a computer and the computer hardware. The purpose of an operating system is to provide an environment in which a user can execute programs in a convenient and efficient manner.\n",
      "\n",
      "      An operating system is a software that manages the computer hardware. The hardware must provide appropriate mechanisms to ensure the correct operation of the computer system and to prevent user programs from interfering with the proper operation of the system.\n",
      "\n",
      "      A more common definition, and the one that we usually follow, is that the operating system is the one program running at all times on the computer usually called the kernel.\n"
     ]
    }
   ],
   "source": [
    "w = open('Data Files/dataread.txt','r')\n",
    "for line in w.readlines():\n",
    "    print(line)"
   ]
  },
  {
   "cell_type": "code",
   "execution_count": 38,
   "metadata": {},
   "outputs": [
    {
     "name": "stdout",
     "output_type": "stream",
     "text": [
      "1-What is Operating System?\n",
      "\n",
      "    An operating system acts as an intermediary between the user of a computer and the computer hardware. The purpose of an operating system is to provide an environment in which a user can execute programs in a convenient and efficient manner.\n",
      "\n"
     ]
    }
   ],
   "source": [
    "w = open('Data Files/dataread.txt','r')\n",
    "for line in w.readlines()[:2]:\n",
    "    print(line)"
   ]
  },
  {
   "cell_type": "code",
   "execution_count": null,
   "metadata": {},
   "outputs": [],
   "source": []
  }
 ],
 "metadata": {
  "kernelspec": {
   "display_name": "Python 3",
   "language": "python",
   "name": "python3"
  },
  "language_info": {
   "codemirror_mode": {
    "name": "ipython",
    "version": 3
   },
   "file_extension": ".py",
   "mimetype": "text/x-python",
   "name": "python",
   "nbconvert_exporter": "python",
   "pygments_lexer": "ipython3",
   "version": "3.7.6"
  }
 },
 "nbformat": 4,
 "nbformat_minor": 4
}
