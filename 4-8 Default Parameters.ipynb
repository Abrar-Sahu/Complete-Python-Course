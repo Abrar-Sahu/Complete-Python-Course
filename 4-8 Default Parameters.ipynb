{
 "cells": [
  {
   "cell_type": "code",
   "execution_count": 16,
   "metadata": {},
   "outputs": [
    {
     "name": "stdout",
     "output_type": "stream",
     "text": [
      "Your first name is: Abrar\n",
      "You last name is: Sahu\n",
      "You age is: 22\n"
     ]
    }
   ],
   "source": [
    "def user_info(first_name , last_name , age=22):\n",
    "    print(f\"Your first name is: {first_name}\")\n",
    "    print(f\"You last name is: {last_name}\")\n",
    "    print(f\"You age is: {age}\")\n",
    "user_info(\"Abrar\",\"Sahu\")"
   ]
  },
  {
   "cell_type": "code",
   "execution_count": null,
   "metadata": {},
   "outputs": [],
   "source": [
    "# here age is a default parameter."
   ]
  }
 ],
 "metadata": {
  "kernelspec": {
   "display_name": "Python 3",
   "language": "python",
   "name": "python3"
  },
  "language_info": {
   "codemirror_mode": {
    "name": "ipython",
    "version": 3
   },
   "file_extension": ".py",
   "mimetype": "text/x-python",
   "name": "python",
   "nbconvert_exporter": "python",
   "pygments_lexer": "ipython3",
   "version": "3.7.6"
  }
 },
 "nbformat": 4,
 "nbformat_minor": 4
}
