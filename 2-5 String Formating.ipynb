{
 "cells": [
  {
   "cell_type": "code",
   "execution_count": 1,
   "metadata": {},
   "outputs": [
    {
     "name": "stdout",
     "output_type": "stream",
     "text": [
      "Your name is: Sahu and your age is: 22\n"
     ]
    }
   ],
   "source": [
    "name = \"Sahu\"\n",
    "age = 22                        # Python 2   Ugly Syntax\n",
    "print(\"Your name is: \"+name+\" and your age is: \"+str(age))"
   ]
  },
  {
   "cell_type": "code",
   "execution_count": 3,
   "metadata": {},
   "outputs": [
    {
     "name": "stdout",
     "output_type": "stream",
     "text": [
      "Hello Abrar your age is 22 \n"
     ]
    }
   ],
   "source": [
    "name = \"Abrar\"\n",
    "age = 22                         # Python 3  Normal Syntax\n",
    "print(\"Hello {} your age is {} \".format(name,age))"
   ]
  },
  {
   "cell_type": "code",
   "execution_count": 4,
   "metadata": {},
   "outputs": [
    {
     "name": "stdout",
     "output_type": "stream",
     "text": [
      "Hello Abrar your age is 22\n"
     ]
    }
   ],
   "source": [
    "print(f\"Hello {name} your age is {age}\")   # Python 3.6  Clean and Best Syntax"
   ]
  },
  {
   "cell_type": "code",
   "execution_count": null,
   "metadata": {},
   "outputs": [],
   "source": []
  }
 ],
 "metadata": {
  "kernelspec": {
   "display_name": "Python 3",
   "language": "python",
   "name": "python3"
  },
  "language_info": {
   "codemirror_mode": {
    "name": "ipython",
    "version": 3
   },
   "file_extension": ".py",
   "mimetype": "text/x-python",
   "name": "python",
   "nbconvert_exporter": "python",
   "pygments_lexer": "ipython3",
   "version": "3.7.6"
  }
 },
 "nbformat": 4,
 "nbformat_minor": 4
}
