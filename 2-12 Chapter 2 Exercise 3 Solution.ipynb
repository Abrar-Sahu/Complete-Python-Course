{
 "cells": [
  {
   "cell_type": "code",
   "execution_count": 7,
   "metadata": {},
   "outputs": [
    {
     "name": "stdout",
     "output_type": "stream",
     "text": [
      "Enter your name and alphabet: Abrar Sahu,a\n",
      "Total a in abrar sahu are: 3\n"
     ]
    }
   ],
   "source": [
    "name , alpha = input(\"Enter your name and alphabet: \").split(\",\")\n",
    "user_name = name.lower()\n",
    "print(f\"Total {alpha} in {user_name} are: {user_name.count(alpha)}\")"
   ]
  },
  {
   "cell_type": "code",
   "execution_count": 8,
   "metadata": {},
   "outputs": [
    {
     "name": "stdout",
     "output_type": "stream",
     "text": [
      "Length of your name is: 10\n"
     ]
    }
   ],
   "source": [
    "print(f\"Length of your name is: {len(name)}\")"
   ]
  },
  {
   "cell_type": "code",
   "execution_count": 9,
   "metadata": {},
   "outputs": [
    {
     "name": "stdout",
     "output_type": "stream",
     "text": [
      "Enter your name and alphabet: Abrar Sahu,A\n",
      "Total A in abrar sahu are: 3\n"
     ]
    }
   ],
   "source": [
    "name , alpha = input(\"Enter your name and alphabet: \").split(\",\")\n",
    "user_name = name.lower()\n",
    "print(f\"Total {alpha} in {user_name} are: {user_name.count(alpha.lower())}\")"
   ]
  },
  {
   "cell_type": "code",
   "execution_count": null,
   "metadata": {},
   "outputs": [],
   "source": []
  }
 ],
 "metadata": {
  "kernelspec": {
   "display_name": "Python 3",
   "language": "python",
   "name": "python3"
  },
  "language_info": {
   "codemirror_mode": {
    "name": "ipython",
    "version": 3
   },
   "file_extension": ".py",
   "mimetype": "text/x-python",
   "name": "python",
   "nbconvert_exporter": "python",
   "pygments_lexer": "ipython3",
   "version": "3.7.6"
  }
 },
 "nbformat": 4,
 "nbformat_minor": 4
}
