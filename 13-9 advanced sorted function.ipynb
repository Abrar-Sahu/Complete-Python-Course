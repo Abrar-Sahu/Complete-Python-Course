{
 "cells": [
  {
   "cell_type": "code",
   "execution_count": 1,
   "metadata": {},
   "outputs": [
    {
     "name": "stdout",
     "output_type": "stream",
     "text": [
      "['apple', 'grapes', 'mango']\n"
     ]
    }
   ],
   "source": [
    "fruits = ['grapes','mango','apple']\n",
    "fruits.sort()\n",
    "print(fruits)"
   ]
  },
  {
   "cell_type": "code",
   "execution_count": 3,
   "metadata": {},
   "outputs": [
    {
     "name": "stdout",
     "output_type": "stream",
     "text": [
      "['grapes', 'mango', 'apple']\n"
     ]
    }
   ],
   "source": [
    "fruits1 = ['grapes','mango','apple']\n",
    "sorted(fruits1)\n",
    "print(fruits1)"
   ]
  },
  {
   "cell_type": "code",
   "execution_count": 4,
   "metadata": {},
   "outputs": [
    {
     "name": "stdout",
     "output_type": "stream",
     "text": [
      "['apple', 'grapes', 'mango']\n"
     ]
    }
   ],
   "source": [
    "print(sorted(fruits))"
   ]
  },
  {
   "cell_type": "code",
   "execution_count": 5,
   "metadata": {},
   "outputs": [
    {
     "name": "stdout",
     "output_type": "stream",
     "text": [
      "['apple', 'grapes', 'mango']\n"
     ]
    }
   ],
   "source": [
    "fruits = {'grapes','mango','apple'}\n",
    "print(sorted(fruits))"
   ]
  },
  {
   "cell_type": "code",
   "execution_count": 7,
   "metadata": {},
   "outputs": [
    {
     "name": "stdout",
     "output_type": "stream",
     "text": [
      "[{'name': 'haseb', 'score': 98, 'age': 12}, {'name': 'rajab', 'score': 85, 'age': 19}, {'name': 'mian', 'score': 70, 'age': 25}]\n"
     ]
    }
   ],
   "source": [
    "student2 = [\n",
    "    {'name':'rajab','score':85,'age':19},\n",
    "    {'name':'haseb','score':98,'age':12},\n",
    "    {'name':'mian','score':70,'age':25}\n",
    "]\n",
    "print(sorted(student2 , key = lambda d:d['age']))"
   ]
  },
  {
   "cell_type": "code",
   "execution_count": 8,
   "metadata": {},
   "outputs": [
    {
     "name": "stdout",
     "output_type": "stream",
     "text": [
      "[{'name': 'mian', 'score': 70, 'age': 25}, {'name': 'rajab', 'score': 85, 'age': 19}, {'name': 'haseb', 'score': 98, 'age': 12}]\n"
     ]
    }
   ],
   "source": [
    "print(sorted(student2 , key = lambda d:d['age'],reverse=True))"
   ]
  },
  {
   "cell_type": "code",
   "execution_count": null,
   "metadata": {},
   "outputs": [],
   "source": []
  }
 ],
 "metadata": {
  "kernelspec": {
   "display_name": "Python 3",
   "language": "python",
   "name": "python3"
  },
  "language_info": {
   "codemirror_mode": {
    "name": "ipython",
    "version": 3
   },
   "file_extension": ".py",
   "mimetype": "text/x-python",
   "name": "python",
   "nbconvert_exporter": "python",
   "pygments_lexer": "ipython3",
   "version": "3.7.6"
  }
 },
 "nbformat": 4,
 "nbformat_minor": 4
}
