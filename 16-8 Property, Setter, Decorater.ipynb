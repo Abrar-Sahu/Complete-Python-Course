{
 "cells": [
  {
   "cell_type": "code",
   "execution_count": 13,
   "metadata": {},
   "outputs": [
    {
     "name": "stdout",
     "output_type": "stream",
     "text": [
      "500\n",
      "Nokia 1100 and price is 1000\n"
     ]
    }
   ],
   "source": [
    "class Phone():\n",
    "    def __init__(self,brand,model_name,price):\n",
    "        # instance variable\n",
    "        self.brand = brand\n",
    "        self.model_name = model_name\n",
    "        self._price = price\n",
    "        self.complete_specification = f\"{self.brand} {self.model_name} and price is {self._price}\"\n",
    "    def make_a_call(self,phone_number):\n",
    "        print(f\"Calling {phone_number} .....\")\n",
    "    def full_name(self):\n",
    "        return f'{self.brand} {self.model_name}'\n",
    "phone1 = Phone('Nokia','1100',1000)\n",
    "#print(phone1._price)\n",
    "phone1._price = 500\n",
    "print(phone1._price)\n",
    "print(phone1.complete_specification)            # price is not change.\n",
    "#print(phone1.__dict__)"
   ]
  },
  {
   "cell_type": "code",
   "execution_count": 8,
   "metadata": {},
   "outputs": [
    {
     "name": "stdout",
     "output_type": "stream",
     "text": [
      "0\n",
      "{'brand': 'Nokia', 'model_name': '1100', '_price': 0, 'complete_specification': 'Nokia 1100 and price is 0'}\n"
     ]
    }
   ],
   "source": [
    "class Phone():\n",
    "    def __init__(self,brand,model_name,price):\n",
    "        # instance variable\n",
    "        self.brand = brand\n",
    "        self.model_name = model_name\n",
    "        self._price = max(price,0)\n",
    "        self.complete_specification = f\"{self.brand} {self.model_name} and price is {self._price}\"\n",
    "    def make_a_call(self,phone_number):\n",
    "        print(f\"Calling {phone_number} .....\")\n",
    "    def full_name(self):\n",
    "        return f'{self.brand} {self.model_name}'\n",
    "phone1 = Phone('Nokia','1100',-1000)            # price is change in this case\n",
    "print(phone1._price)\n",
    "print(phone1.__dict__)"
   ]
  },
  {
   "cell_type": "code",
   "execution_count": null,
   "metadata": {},
   "outputs": [],
   "source": []
  },
  {
   "cell_type": "code",
   "execution_count": 17,
   "metadata": {},
   "outputs": [
    {
     "name": "stdout",
     "output_type": "stream",
     "text": [
      "1000\n"
     ]
    },
    {
     "data": {
      "text/plain": [
       "'Nokia 1100 and price is 1000'"
      ]
     },
     "execution_count": 17,
     "metadata": {},
     "output_type": "execute_result"
    }
   ],
   "source": [
    "class Phone():\n",
    "    def __init__(self,brand,model_name,price):\n",
    "        # instance variable\n",
    "        self.brand = brand\n",
    "        self.model_name = model_name\n",
    "        self._price = max(price,0)\n",
    "        self.complete_specification = f\"{self.brand} {self.model_name} and price is {self._price}\"\n",
    "    def complete_specification(self):\n",
    "         print(f\"{self.brand} {self.model_name} and price is {self._price}\")\n",
    "    def make_a_call(self,phone_number):\n",
    "        print(f\"Calling {phone_number} .....\")\n",
    "    def full_name(self):\n",
    "        return f'{self.brand} {self.model_name}'\n",
    "phone1 = Phone('Nokia','1100',1000)\n",
    "print(phone1._price)\n",
    "phone1.complete_specification"
   ]
  },
  {
   "cell_type": "code",
   "execution_count": null,
   "metadata": {},
   "outputs": [],
   "source": []
  },
  {
   "cell_type": "code",
   "execution_count": 21,
   "metadata": {},
   "outputs": [
    {
     "name": "stdout",
     "output_type": "stream",
     "text": [
      "0\n",
      "Nokia 1100 and price is 0\n"
     ]
    }
   ],
   "source": [
    "class Phone():\n",
    "    def __init__(self,brand,model_name,price):\n",
    "        # instance variable\n",
    "        self.brand = brand\n",
    "        self.model_name = model_name\n",
    "        self._price = max(price,0)\n",
    "    @property\n",
    "    def complete_specification(self):\n",
    "         print(f\"{self.brand} {self.model_name} and price is {self._price}\")\n",
    "    @property\n",
    "    def price(self):\n",
    "        return self._price\n",
    "    @price.setter\n",
    "    def price(self,new_price):\n",
    "        self._price = max(new_price,0)\n",
    "    def make_a_call(self,phone_number):\n",
    "        print(f\"Calling {phone_number} .....\")\n",
    "    def full_name(self):\n",
    "        return f'{self.brand} {self.model_name}'\n",
    "phone1 = Phone('Nokia','1100',-5000)\n",
    "print(phone1._price)\n",
    "phone1.complete_specification"
   ]
  },
  {
   "cell_type": "code",
   "execution_count": null,
   "metadata": {},
   "outputs": [],
   "source": []
  }
 ],
 "metadata": {
  "kernelspec": {
   "display_name": "Python 3",
   "language": "python",
   "name": "python3"
  },
  "language_info": {
   "codemirror_mode": {
    "name": "ipython",
    "version": 3
   },
   "file_extension": ".py",
   "mimetype": "text/x-python",
   "name": "python",
   "nbconvert_exporter": "python",
   "pygments_lexer": "ipython3",
   "version": "3.7.6"
  }
 },
 "nbformat": 4,
 "nbformat_minor": 4
}
